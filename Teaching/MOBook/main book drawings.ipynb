{
 "cells": [
  {
   "cell_type": "code",
   "execution_count": null,
   "id": "75579996",
   "metadata": {
    "executionInfo": {
     "elapsed": 230,
     "status": "ok",
     "timestamp": 1643295291264,
     "user": {
      "displayName": "Joaquim Gromicho",
      "photoUrl": "https://lh3.googleusercontent.com/a/default-user=s64",
      "userId": "14375950305363805729"
     },
     "user_tz": -60
    },
    "id": "75579996"
   },
   "outputs": [],
   "source": [
    "import matplotlib\n",
    "import matplotlib.pyplot as plt\n",
    "\n",
    "%matplotlib inline\n",
    "\n",
    "# https://stackoverflow.com/questions/17687213/how-to-obtain-the-same-font-style-size-etc-in-matplotlib-output-as-in-latex\n",
    "params = {'text.usetex' : True,\n",
    "          'font.size'   : 10, # the book seems to be in 10pt, change if needed\n",
    "          'font.family' : 'lmodern',\n",
    "          }\n",
    "\n",
    "plt.rcParams.update(params)\n",
    "default_size_inches = (3.54,3.54) \n",
    "plt.rcParams['figure.figsize'] = default_size_inches"
   ]
  },
  {
   "cell_type": "code",
   "execution_count": null,
   "id": "aed2e9e2",
   "metadata": {},
   "outputs": [],
   "source": [
    "[ k for k in matplotlib.rcParams.keys() if 'font' in k ]"
   ]
  },
  {
   "cell_type": "code",
   "execution_count": null,
   "id": "b586264b",
   "metadata": {
    "colab": {
     "base_uri": "https://localhost:8080/",
     "height": 35
    },
    "executionInfo": {
     "elapsed": 366,
     "status": "ok",
     "timestamp": 1643295291990,
     "user": {
      "displayName": "Joaquim Gromicho",
      "photoUrl": "https://lh3.googleusercontent.com/a/default-user=s64",
      "userId": "14375950305363805729"
     },
     "user_tz": -60
    },
    "id": "b586264b",
    "outputId": "978a4606-c13a-43aa-ed21-da59b2f1b16b"
   },
   "outputs": [],
   "source": [
    "import pyomo.environ as pyo\n",
    "import pyomo\n",
    "pyomo.__version__"
   ]
  },
  {
   "cell_type": "code",
   "execution_count": null,
   "id": "483ca84b",
   "metadata": {},
   "outputs": [],
   "source": [
    "%load_ext autoreload\n",
    "%autoreload 2"
   ]
  },
  {
   "cell_type": "code",
   "execution_count": null,
   "id": "d0cca6d3",
   "metadata": {},
   "outputs": [],
   "source": [
    "import sys\n",
    "sys.path.append('./code/')\n",
    "import draw"
   ]
  },
  {
   "cell_type": "code",
   "execution_count": null,
   "id": "55fc9ec0",
   "metadata": {},
   "outputs": [],
   "source": [
    "def ApplyDefaults(chapter=None,**kwarg):\n",
    "    params = {'text.usetex' : True,\n",
    "          'font.size'   : 12, \n",
    "          'font.family' : 'lmodern',\n",
    "          'figure.figsize' : [8, 6],\n",
    "          'text.latex.preamble' : r'\\usepackage{times}',\n",
    "          } | kwarg.get('overrule',dict())\n",
    "    print(params)\n",
    "    plt.rcParams.update(params)\n",
    "    if chapter:\n",
    "        draw.SetOutputPath( fr'D:\\joaquimg\\Dropbox\\Apps\\Overleaf\\Optimization textbook\\figures\\ch{chapter}' )\n",
    "        result = 'svg'\n",
    "    else:\n",
    "        draw.SetOutputPath( './temp' )\n",
    "        result = 'pdf'\n",
    "    return result"
   ]
  },
  {
   "cell_type": "code",
   "execution_count": null,
   "id": "1c861552",
   "metadata": {},
   "outputs": [],
   "source": [
    "graphics_type = ApplyDefaults(2,overrule={'font.size':10})\n",
    "graphics_type = ApplyDefaults()\n",
    "graphics_type"
   ]
  },
  {
   "cell_type": "markdown",
   "id": "c920862b",
   "metadata": {},
   "source": [
    "# Chapter one"
   ]
  },
  {
   "cell_type": "code",
   "execution_count": null,
   "id": "L8HIF9mx5mYm",
   "metadata": {
    "colab": {
     "base_uri": "https://localhost:8080/",
     "height": 68
    },
    "executionInfo": {
     "elapsed": 2226,
     "status": "ok",
     "timestamp": 1643295332450,
     "user": {
      "displayName": "Joaquim Gromicho",
      "photoUrl": "https://lh3.googleusercontent.com/a/default-user=s64",
      "userId": "14375950305363805729"
     },
     "user_tz": -60
    },
    "id": "L8HIF9mx5mYm",
    "outputId": "0c1f0e57-bec9-4db1-9ae9-84318169b407"
   },
   "outputs": [],
   "source": [
    "import sympy, math, numpy as np, sys\n",
    "\n",
    "x  = sympy.Symbol('x')\n",
    "\n",
    "# now pi is a symbol, just like x\n",
    "pi = sympy.Symbol('pi')\n",
    "\n",
    "# we redefine h using the same right-hand-side code as before, \n",
    "# but now with x and pi as symbols\n",
    "h = (pi*x**2 + 500)/(2*pi*x+50)\n",
    "\n",
    "# to have the drivative on the symbol pi we need it from the new version of h\n",
    "hprime = sympy.diff( h, x )\n",
    "\n",
    "solution = sympy.solveset( sympy.diff( h, x ), x )\n",
    "solution"
   ]
  },
  {
   "cell_type": "code",
   "execution_count": null,
   "id": "8Xxqu9nb6Aio",
   "metadata": {
    "colab": {
     "base_uri": "https://localhost:8080/",
     "height": 106
    },
    "executionInfo": {
     "elapsed": 331,
     "status": "ok",
     "timestamp": 1643295332775,
     "user": {
      "displayName": "Joaquim Gromicho",
      "photoUrl": "https://lh3.googleusercontent.com/a/default-user=s64",
      "userId": "14375950305363805729"
     },
     "user_tz": -60
    },
    "id": "8Xxqu9nb6Aio",
    "outputId": "45387991-a9da-4b4a-b732-a412fa3ede80"
   },
   "outputs": [],
   "source": [
    "def Preety( formula ):\n",
    "    from sympy import latex\n",
    "    from IPython.display import display, Math\n",
    "    display( Math( latex( formula ) ) )\n",
    "\n",
    "Preety( h )\n",
    "Preety( sympy.simplify( h ) )\n",
    "Preety( hprime )\n",
    "Preety( sympy.simplify( hprime ) )"
   ]
  },
  {
   "cell_type": "code",
   "execution_count": null,
   "id": "GaurTgF_6FbW",
   "metadata": {
    "colab": {
     "base_uri": "https://localhost:8080/",
     "height": 65
    },
    "executionInfo": {
     "elapsed": 6,
     "status": "ok",
     "timestamp": 1643295332776,
     "user": {
      "displayName": "Joaquim Gromicho",
      "photoUrl": "https://lh3.googleusercontent.com/a/default-user=s64",
      "userId": "14375950305363805729"
     },
     "user_tz": -60
    },
    "id": "GaurTgF_6FbW",
    "outputId": "32f47ab4-4eff-4809-d0c2-e6857ef03eee"
   },
   "outputs": [],
   "source": [
    "Preety( solution )\n",
    "\n",
    "s = max(solution.subs( pi, math.pi ).evalf())\n",
    "\n",
    "print(s)"
   ]
  },
  {
   "cell_type": "code",
   "execution_count": null,
   "id": "OMbxUPPt5OFw",
   "metadata": {
    "executionInfo": {
     "elapsed": 228,
     "status": "ok",
     "timestamp": 1643295333000,
     "user": {
      "displayName": "Joaquim Gromicho",
      "photoUrl": "https://lh3.googleusercontent.com/a/default-user=s64",
      "userId": "14375950305363805729"
     },
     "user_tz": -60
    },
    "id": "OMbxUPPt5OFw"
   },
   "outputs": [],
   "source": [
    "def Plot( h, s=None, start=0, stop=20, width=18, height=8, file_name=None ):\n",
    "    with plt.rc_context({'figure.figsize': (width,height)}): \n",
    "        plt.rcParams['figure.figsize'] = (width,height)\n",
    "\n",
    "        plt.grid()\n",
    "        plt.xlabel(r'$x$')\n",
    "        plt.ylabel(r'$h(x)$')\n",
    "\n",
    "        plt.xticks(np.arange(start, stop+1, step=1))\n",
    "\n",
    "        x = sympy.Symbol('x')\n",
    "        f = sympy.lambdify( x, h.subs( pi, math.pi ) )\n",
    "\n",
    "        import numpy\n",
    "        x = numpy.linspace(start=start,stop=stop,num=100) \n",
    "        y = f(x)\n",
    "\n",
    "        plt.plot(x,y,label='$h(x)='+sympy.latex(h)+'$',linewidth=3)\n",
    "        if s is None:\n",
    "            x = numpy.linspace(start=start,stop=stop,num=stop-start+1) \n",
    "            y = f(x)\n",
    "            plt.plot(x,y, 'bo', label='some points', markersize=8)\n",
    "        else:\n",
    "            plt.plot(s,f(s), 'ro', label='$x^*$ optimum', markersize=8)\n",
    "\n",
    "        plt.legend()\n",
    "\n",
    "        if file_name is not None:\n",
    "            plt.savefig( draw._output_path+file_name, bbox_inches='tight', pad_inches=0 )\n",
    "\n",
    "        plt.show()"
   ]
  },
  {
   "cell_type": "code",
   "execution_count": null,
   "id": "cvCf5EV65zlz",
   "metadata": {
    "colab": {
     "base_uri": "https://localhost:8080/",
     "height": 497
    },
    "executionInfo": {
     "elapsed": 1519,
     "status": "ok",
     "timestamp": 1643295334517,
     "user": {
      "displayName": "Joaquim Gromicho",
      "photoUrl": "https://lh3.googleusercontent.com/a/default-user=s64",
      "userId": "14375950305363805729"
     },
     "user_tz": -60
    },
    "id": "cvCf5EV65zlz",
    "outputId": "2ce3621c-dca9-4d0c-bc20-2a9cf94789c7"
   },
   "outputs": [],
   "source": [
    "Plot( h, None, 0, 20, 8, 5, f'AliceSome.{graphics_type}' )"
   ]
  },
  {
   "cell_type": "code",
   "execution_count": null,
   "id": "TrhtNXWB536T",
   "metadata": {
    "colab": {
     "base_uri": "https://localhost:8080/",
     "height": 497
    },
    "executionInfo": {
     "elapsed": 1207,
     "status": "ok",
     "timestamp": 1643295335720,
     "user": {
      "displayName": "Joaquim Gromicho",
      "photoUrl": "https://lh3.googleusercontent.com/a/default-user=s64",
      "userId": "14375950305363805729"
     },
     "user_tz": -60
    },
    "id": "TrhtNXWB536T",
    "outputId": "87acbe5c-ca61-4c3d-8d85-f4629c579b28"
   },
   "outputs": [],
   "source": [
    "Plot( h, s, 0, 20, 6, 3, f'AliceOptimum.{graphics_type}' )"
   ]
  },
  {
   "cell_type": "markdown",
   "id": "f3eb9ddf",
   "metadata": {},
   "source": [
    "# Chapter two"
   ]
  },
  {
   "cell_type": "code",
   "execution_count": null,
   "id": "6a71cb5d",
   "metadata": {},
   "outputs": [],
   "source": [
    "def SimpleDraw( model, figsize=(5,5), **kwargs ):\n",
    "    file_name=dict(file_name=f\"{kwargs.get('file_name',model.name)}.{graphics_type}\")\n",
    "    \n",
    "    with plt.rc_context({'figure.figsize': figsize}):\n",
    "        return draw.Draw( model, isolines=True, **(kwargs|file_name) )"
   ]
  },
  {
   "cell_type": "code",
   "execution_count": null,
   "id": "92eb880f",
   "metadata": {},
   "outputs": [],
   "source": [
    "def CreateBIM():\n",
    "    m    = pyo.ConcreteModel('BIM')\n",
    "    \n",
    "    m.x1 = pyo.Var( within=pyo.NonNegativeReals )\n",
    "    m.x2 = pyo.Var( within=pyo.NonNegativeReals )\n",
    "\n",
    "    m.obj       = pyo.Objective( sense= pyo.maximize\n",
    "                               , expr = 12*m.x1 + 9*m.x2 )\n",
    "\n",
    "    m.silicon   = pyo.Constraint(expr =    m.x1          <= 1000)\n",
    "    m.germanium = pyo.Constraint(expr =             m.x2 <= 1500)\n",
    "    m.plastic   = pyo.Constraint(expr =    m.x1 +   m.x2 <= 1750)\n",
    "    m.copper    = pyo.Constraint(expr =  4*m.x1 + 2*m.x2 <= 4800)\n",
    "    \n",
    "    return m"
   ]
  },
  {
   "cell_type": "code",
   "execution_count": null,
   "id": "659e896b",
   "metadata": {},
   "outputs": [],
   "source": [
    "basicsol_style=dict(facecolors='white', edgecolors='black', linewidth=.8)\n",
    "optsol_style=dict(facecolors='cyan', edgecolors='black', linewidth=.8)"
   ]
  },
  {
   "cell_type": "code",
   "execution_count": null,
   "id": "b7876cc7",
   "metadata": {},
   "outputs": [],
   "source": [
    "graphics_type = ApplyDefaults(2)\n",
    "SimpleDraw( CreateBIM(), figsize=(5,5), file_name='BIM_feasibleregion', basicsol_style=basicsol_style, optsol_style=optsol_style )\n",
    "graphics_type = ApplyDefaults()"
   ]
  },
  {
   "cell_type": "markdown",
   "id": "82977cd4",
   "metadata": {},
   "source": [
    "# Chapter three"
   ]
  },
  {
   "cell_type": "markdown",
   "id": "gxV0Ada048pn",
   "metadata": {
    "id": "gxV0Ada048pn"
   },
   "source": [
    "The first version was a copy of [the model on this deck](http://web.tecnico.ulisboa.pt/mcasquilho/compute/_linpro/TaylorB_module_c.pdf]).\n",
    "\n",
    "Below several versions of possible models."
   ]
  },
  {
   "cell_type": "code",
   "execution_count": null,
   "id": "MXqkQ-Eu4uko",
   "metadata": {
    "executionInfo": {
     "elapsed": 4,
     "status": "ok",
     "timestamp": 1643295292327,
     "user": {
      "displayName": "Joaquim Gromicho",
      "photoUrl": "https://lh3.googleusercontent.com/a/default-user=s64",
      "userId": "14375950305363805729"
     },
     "user_tz": -60
    },
    "id": "MXqkQ-Eu4uko"
   },
   "outputs": [],
   "source": [
    "def CreateBBaExample():\n",
    "    model    = pyo.ConcreteModel('BBa')\n",
    "    \n",
    "    model.x1 = pyo.Var( within=pyo.NonNegativeReals )\n",
    "    model.x2 = pyo.Var( within=pyo.NonNegativeReals )\n",
    "\n",
    "    model.obj = pyo.Objective( sense= pyo.maximize\n",
    "                                    , expr = 2*model.x1 + 3*model.x2 )\n",
    "\n",
    "    model.c1  = pyo.Constraint(expr =  2*model.x1 +  1*model.x2 <=  10)\n",
    "    model.c2  = pyo.Constraint(expr =  3*model.x1 +  6*model.x2 <=  40)\n",
    "    \n",
    "    return model"
   ]
  },
  {
   "cell_type": "code",
   "execution_count": null,
   "id": "E5H8E0Xw41jg",
   "metadata": {
    "colab": {
     "base_uri": "https://localhost:8080/",
     "height": 438
    },
    "executionInfo": {
     "elapsed": 1318,
     "status": "ok",
     "timestamp": 1643295293642,
     "user": {
      "displayName": "Joaquim Gromicho",
      "photoUrl": "https://lh3.googleusercontent.com/a/default-user=s64",
      "userId": "14375950305363805729"
     },
     "user_tz": -60
    },
    "id": "E5H8E0Xw41jg",
    "outputId": "bfd6d5c6-8aeb-4428-9d31-d638d4ddb866"
   },
   "outputs": [],
   "source": [
    "graphics_type = ApplyDefaults()\n",
    "draw.Draw( CreateBBaExample(), integer=True, isolines=True, file_name=f'{CreateBBaExample().name}.{graphics_type}', title='First B\\&B example' )"
   ]
  },
  {
   "cell_type": "code",
   "execution_count": null,
   "id": "84003df3",
   "metadata": {
    "colab": {
     "base_uri": "https://localhost:8080/",
     "height": 1000
    },
    "executionInfo": {
     "elapsed": 14058,
     "status": "ok",
     "timestamp": 1643295321420,
     "user": {
      "displayName": "Joaquim Gromicho",
      "photoUrl": "https://lh3.googleusercontent.com/a/default-user=s64",
      "userId": "14375950305363805729"
     },
     "user_tz": -60
    },
    "id": "VdxPo6Fs_7Kx",
    "outputId": "69de78b4-5126-410e-f444-50d107192330",
    "scrolled": true
   },
   "outputs": [],
   "source": [
    "graphics_type = ApplyDefaults(3,overrule={'font.size':18,'figure.figsize':(4.5,4.5)})\n",
    "\n",
    "sol,root = draw.BB( CreateBBaExample(), solver='gurobi', graphics_format=graphics_type )\n",
    "\n",
    "graphics_type = ApplyDefaults()"
   ]
  },
  {
   "cell_type": "code",
   "execution_count": null,
   "id": "fe2bab5e",
   "metadata": {},
   "outputs": [],
   "source": [
    "draw.ToTikz(root, 'BBa.tex', fig_only=True )"
   ]
  },
  {
   "cell_type": "code",
   "execution_count": null,
   "id": "d7188079",
   "metadata": {},
   "outputs": [],
   "source": [
    "draw.DrawBB(root,f'BB.{graphics_type}')"
   ]
  },
  {
   "cell_type": "code",
   "execution_count": null,
   "id": "krauKkRL8nTc",
   "metadata": {
    "colab": {
     "base_uri": "https://localhost:8080/",
     "height": 17
    },
    "executionInfo": {
     "elapsed": 348,
     "status": "ok",
     "timestamp": 1643295321763,
     "user": {
      "displayName": "Joaquim Gromicho",
      "photoUrl": "https://lh3.googleusercontent.com/a/default-user=s64",
      "userId": "14375950305363805729"
     },
     "user_tz": -60
    },
    "id": "krauKkRL8nTc",
    "outputId": "c5dfd52e-7f2c-476e-fdcc-f11623a9312e"
   },
   "outputs": [],
   "source": [
    "draw.DotExporter(root).to_picture(f\"BB.{graphics_type}\")"
   ]
  },
  {
   "cell_type": "code",
   "execution_count": null,
   "id": "38e6343d",
   "metadata": {},
   "outputs": [],
   "source": [
    "def CreateBBbExample():\n",
    "    m    = pyo.ConcreteModel('BBb')\n",
    "    \n",
    "    m.x1 = pyo.Var( within=pyo.NonNegativeReals )\n",
    "    m.x2 = pyo.Var( within=pyo.NonNegativeReals )\n",
    "\n",
    "    m.obj= pyo.Objective( sense= pyo.maximize\n",
    "                        , expr =  1*m.x1 + 2*m.x2 )\n",
    "\n",
    "    m.c1 = pyo.Constraint(expr = -4*m.x1 + 5*m.x2 <= 11)\n",
    "    m.c2 = pyo.Constraint(expr =  5*m.x1 - 2*m.x2 <=  9)\n",
    "    \n",
    "    return m"
   ]
  },
  {
   "cell_type": "code",
   "execution_count": null,
   "id": "00e729e6",
   "metadata": {},
   "outputs": [],
   "source": [
    "draw.Draw( CreateBBbExample(), integer=True, isolines=False, file_name=None, title='test' )"
   ]
  },
  {
   "cell_type": "code",
   "execution_count": null,
   "id": "0882d9e6",
   "metadata": {},
   "outputs": [],
   "source": [
    "sol,root = draw.BB( CreateBBbExample(), solver='gurobi', graphics_format=graphics_type )"
   ]
  },
  {
   "cell_type": "code",
   "execution_count": null,
   "id": "b10783ce",
   "metadata": {},
   "outputs": [],
   "source": [
    "draw.ToTikz(root, 'BBb.tex', fig_only=True )"
   ]
  },
  {
   "cell_type": "code",
   "execution_count": null,
   "id": "c63500d1",
   "metadata": {},
   "outputs": [],
   "source": [
    "draw.DotExporter(root).to_dotfile('test.dot')"
   ]
  },
  {
   "cell_type": "code",
   "execution_count": null,
   "id": "19768910",
   "metadata": {},
   "outputs": [],
   "source": [
    "draw.DrawBB(root,f'BBBook.{graphics_type}')"
   ]
  },
  {
   "cell_type": "code",
   "execution_count": null,
   "id": "uWVnmy_d1MiK",
   "metadata": {
    "executionInfo": {
     "elapsed": 3,
     "status": "ok",
     "timestamp": 1643295324809,
     "user": {
      "displayName": "Joaquim Gromicho",
      "photoUrl": "https://lh3.googleusercontent.com/a/default-user=s64",
      "userId": "14375950305363805729"
     },
     "user_tz": -60
    },
    "id": "uWVnmy_d1MiK"
   },
   "outputs": [],
   "source": [
    "def CreateBIMmodified():\n",
    "    m    = pyo.ConcreteModel('BIMmodified')\n",
    "    \n",
    "    m.x1 = pyo.Var( within=pyo.NonNegativeReals )\n",
    "    m.x2 = pyo.Var( within=pyo.NonNegativeReals )\n",
    "\n",
    "    m.obj       = pyo.Objective( sense= pyo.maximize\n",
    "                               , expr = 12*m.x1 + 9*m.x2 )\n",
    "\n",
    "    m.silicon   = pyo.Constraint(expr =    m.x1          <= 900 )\n",
    "    m.germanium = pyo.Constraint(expr =             m.x2 <= 1350)\n",
    "    m.plastic   = pyo.Constraint(expr =    m.x1 +   m.x2 <= 1801)\n",
    "    m.copper    = pyo.Constraint(expr =  4*m.x1 + 2*m.x2 <= 4903)\n",
    "    \n",
    "    return m"
   ]
  },
  {
   "cell_type": "code",
   "execution_count": null,
   "id": "f0cfe5c7",
   "metadata": {},
   "outputs": [],
   "source": [
    "# sol,root = draw.BB( CreateBIMmodified(), solver='gurobi', draw_integer=False, xlim=(-50,1050), ylim=(-50,1550), graphics_format=graphics_type )"
   ]
  },
  {
   "cell_type": "code",
   "execution_count": null,
   "id": "defebbf7",
   "metadata": {},
   "outputs": [],
   "source": [
    "# draw.ToTikz(root, 'BIMmodified.tex', fig_only=True )"
   ]
  },
  {
   "cell_type": "code",
   "execution_count": null,
   "id": "501d6600",
   "metadata": {},
   "outputs": [],
   "source": [
    "def CreateBIMperturbed():\n",
    "    m    = pyo.ConcreteModel('BIMperturbed')\n",
    "    \n",
    "    m.x1 = pyo.Var( within=pyo.NonNegativeReals )\n",
    "    m.x2 = pyo.Var( within=pyo.NonNegativeReals )\n",
    "\n",
    "    m.obj       = pyo.Objective( sense= pyo.maximize\n",
    "                               , expr = 12*m.x1 + 9*m.x2 )\n",
    "\n",
    "    m.silicon   = pyo.Constraint(expr =    m.x1                <= 1000 )\n",
    "    m.germanium = pyo.Constraint(expr =                   m.x2 <= 1500)\n",
    "    m.plastic   = pyo.Constraint(expr =    m.x1    +      m.x2 <= 1750)\n",
    "    m.copper    = pyo.Constraint(expr =  4.04*m.x1 + 2.02*m.x2 <= 4800)\n",
    "    \n",
    "    return m"
   ]
  },
  {
   "cell_type": "code",
   "execution_count": null,
   "id": "f0c0b2ec",
   "metadata": {},
   "outputs": [],
   "source": [
    "# sol,root = draw.BB( CreateBIMperturbed(), solver='gurobi', draw_integer=False, xlim=(-50,1050), ylim=(-50,1550), graphics_format=graphics_type )"
   ]
  },
  {
   "cell_type": "code",
   "execution_count": null,
   "id": "752d997f",
   "metadata": {},
   "outputs": [],
   "source": [
    "# draw.ToTikz(root, 'BIMperturbed.tex', fig_only=True )"
   ]
  },
  {
   "cell_type": "code",
   "execution_count": null,
   "id": "72967122",
   "metadata": {},
   "outputs": [],
   "source": [
    "draw.Draw( CreateBIM(), integer=False, isolines=True, file_name=None, title='First B\\&B example' )"
   ]
  },
  {
   "cell_type": "code",
   "execution_count": null,
   "id": "938edeb8",
   "metadata": {},
   "outputs": [],
   "source": [
    "nx,ny = 6,5\n",
    "F = { (2,1), (3,1), (4,1), (2,2), (3,2), (4,2), (3,3), (4,3), (3,4) }\n",
    "\n",
    "import itertools  \n",
    "points = list(itertools.product( range(0,nx+1), range(0,ny+1) ) )\n",
    "feasible   = [ p for p in points if p in F ]\n",
    "infeasible = [ p for p in points if not p in F ]\n",
    "if infeasible:\n",
    "    plt.plot( *zip(*infeasible), 'ro', zorder=2, markersize=9)\n",
    "if feasible:\n",
    "    plt.plot( *zip(*feasible), 'bo', zorder=2, markersize=9)\n",
    "    \n",
    "def Pol( coord, style, alpha, width ):\n",
    "    coord.append(coord[0]) #repeat the first point to create a 'closed loop'\n",
    "    plt.plot(*zip(*coord),style, alpha=alpha, linewidth=width, zorder=1) \n",
    "\n",
    "Pol( [ (1.6,.5), (2.5,5), (4.5,3.5), (4,.5) ], 'g-', 1, 2 )\n",
    "Pol( [ (2,1), (2,2), (2.5, 3.5), (3.5, 4.5), (4,3), (4,1) ], 'm--', .8, 3 )\n",
    "Pol( [ (2,1), (2,2), (3,4), (4,3), (4,1) ], 'c-.', 1, 3 )\n",
    "\n",
    "ax = plt.gca()\n",
    "\n",
    "# Hide the right and top spines\n",
    "for position in ['left','right','top','bottom']:\n",
    "    ax.spines[position].set_visible(False)\n",
    "    \n",
    "ax.xaxis.set_visible(False)\n",
    "ax.yaxis.set_visible(False)\n",
    "\n",
    "plt.savefig( f'{draw._output_path}3regions.{graphics_type}', bbox_inches='tight', pad_inches=0 )\n",
    "plt.show()"
   ]
  },
  {
   "cell_type": "markdown",
   "id": "ap7I7rAE5erl",
   "metadata": {
    "id": "ap7I7rAE5erl"
   },
   "source": [
    "# Book's pictures"
   ]
  },
  {
   "cell_type": "code",
   "execution_count": null,
   "id": "6MU3qbgv-3uc",
   "metadata": {
    "colab": {
     "base_uri": "https://localhost:8080/",
     "height": 499
    },
    "executionInfo": {
     "elapsed": 3232,
     "status": "ok",
     "timestamp": 1643295338949,
     "user": {
      "displayName": "Joaquim Gromicho",
      "photoUrl": "https://lh3.googleusercontent.com/a/default-user=s64",
      "userId": "14375950305363805729"
     },
     "user_tz": -60
    },
    "id": "6MU3qbgv-3uc",
    "outputId": "2ff34e63-797d-4465-86dc-f9f1b748580c"
   },
   "outputs": [],
   "source": [
    "basicfeasiblesolutions = draw.Draw( CreateBIM(), f'BuildingMicrochips.{graphics_type}' )"
   ]
  },
  {
   "cell_type": "code",
   "execution_count": null,
   "id": "Mtqci70VBDP9",
   "metadata": {
    "colab": {
     "base_uri": "https://localhost:8080/",
     "height": 17
    },
    "executionInfo": {
     "elapsed": 11,
     "status": "ok",
     "timestamp": 1643295338950,
     "user": {
      "displayName": "Joaquim Gromicho",
      "photoUrl": "https://lh3.googleusercontent.com/a/default-user=s64",
      "userId": "14375950305363805729"
     },
     "user_tz": -60
    },
    "id": "Mtqci70VBDP9",
    "outputId": "4604b28c-ea80-4ca6-9a32-3107aa2acc2b"
   },
   "outputs": [],
   "source": [
    "basicfeasiblesolutions.rename(columns={'x1': '$x_1$', 'x2': '$x_2$'}).astype(int).to_latex('chips.tex')\n",
    "if 'google.colab' in sys.modules:\n",
    "    import os\n",
    "    from google.colab import files\n",
    "    files.download( 'chips.tex' )"
   ]
  },
  {
   "cell_type": "code",
   "execution_count": null,
   "id": "fxuj2DLQCD5N",
   "metadata": {
    "colab": {
     "base_uri": "https://localhost:8080/",
     "height": 238
    },
    "executionInfo": {
     "elapsed": 8,
     "status": "ok",
     "timestamp": 1643295338950,
     "user": {
      "displayName": "Joaquim Gromicho",
      "photoUrl": "https://lh3.googleusercontent.com/a/default-user=s64",
      "userId": "14375950305363805729"
     },
     "user_tz": -60
    },
    "id": "fxuj2DLQCD5N",
    "outputId": "e583f6db-e502-4674-e2b6-73ed87084f6a"
   },
   "outputs": [],
   "source": [
    "basicfeasiblesolutions.rename(columns={'x1': '$x_1$', 'x2': '$x_2$'}).astype(int)"
   ]
  },
  {
   "cell_type": "markdown",
   "id": "fd84d9e9",
   "metadata": {},
   "source": [
    "# Exam questions"
   ]
  },
  {
   "cell_type": "code",
   "execution_count": null,
   "id": "4769345b",
   "metadata": {},
   "outputs": [],
   "source": [
    "def CreateABWJanuary2024():\n",
    "    model    = pyo.ConcreteModel('resit ABW')\n",
    "    \n",
    "    # Decision Variables\n",
    "    model.x1 = pyo.Var(within=pyo.NonNegativeReals)\n",
    "    model.x2 = pyo.Var(within=pyo.NonNegativeReals)\n",
    "\n",
    "    # Objective Function\n",
    "    model.obj = pyo.Objective(expr=1 * model.x1 + 2 * model.x2, sense=pyo.minimize)\n",
    "\n",
    "    # Constraints\n",
    "    model.con1 = pyo.Constraint(expr=2 * model.x1 + model.x2 >= 4)\n",
    "    model.con2 = pyo.Constraint(expr=3 * model.x1 - 2 * model.x2 <= 6)\n",
    "    model.con3 = pyo.Constraint(expr=model.x2 <= 5)\n",
    "    model.con4 = pyo.Constraint(expr=model.x2 >= 1)\n",
    "\n",
    "    return model"
   ]
  },
  {
   "cell_type": "code",
   "execution_count": null,
   "id": "5863c7e6",
   "metadata": {},
   "outputs": [],
   "source": [
    "import pyperclip\n",
    "pyperclip.copy( draw.to_latex(CreateABWJanuary2024()) )"
   ]
  },
  {
   "cell_type": "code",
   "execution_count": null,
   "id": "5e1c33e0",
   "metadata": {},
   "outputs": [],
   "source": [
    "graphics_type = 'pdf'\n",
    "basicfeasiblesolutions = draw.Draw( CreateABWJanuary2024(), f'ABWJanuary2024.{graphics_type}' )"
   ]
  },
  {
   "cell_type": "markdown",
   "id": "596689cd",
   "metadata": {},
   "source": [
    "# To do"
   ]
  },
  {
   "cell_type": "code",
   "execution_count": null,
   "id": "TYHUniv4rtWl",
   "metadata": {
    "executionInfo": {
     "elapsed": 554,
     "status": "ok",
     "timestamp": 1643295345272,
     "user": {
      "displayName": "Joaquim Gromicho",
      "photoUrl": "https://lh3.googleusercontent.com/a/default-user=s64",
      "userId": "14375950305363805729"
     },
     "user_tz": -60
    },
    "id": "TYHUniv4rtWl"
   },
   "outputs": [],
   "source": [
    "class LinearModel:\n",
    "    \n",
    "    def __init__(self, A = np.empty([0,0]), b = np.empty([0,0]), c = np.empty([0,0]), minmax = \"MAX\", printIter=True):\n",
    "        self.A = A\n",
    "        self.b = b\n",
    "        self.c = c\n",
    "        self.x = [float(0)] * len(c)\n",
    "        self.minmax = minmax\n",
    "        self.printIter = printIter\n",
    "        self.optimalValue = None\n",
    "        self.transform = False\n",
    "        self.history = []\n",
    "        \n",
    "    def addA(self, A):\n",
    "        self.A = A\n",
    "        self.history = []\n",
    "        \n",
    "    def addB(self, b):\n",
    "        self.b = b\n",
    "        self.history = []\n",
    "        \n",
    "    def addC(self, c):\n",
    "        self.c = c\n",
    "        self.history = []\n",
    "        self.transform = False\n",
    "    \n",
    "    def setObj(self, minmax):\n",
    "        if(minmax == \"MIN\" or minmax == \"MAX\"):\n",
    "            self.minmax = minmax\n",
    "        else:\n",
    "            print(\"Invalid objective.\")\n",
    "        self.transform = False\n",
    "        self.history = []\n",
    "            \n",
    "    def setPrintIter(self, printIter):\n",
    "        self.printIter = printIter\n",
    "            \n",
    "    def printSoln(self):\n",
    "        print(\"Coefficients: \")\n",
    "        print(self.x)\n",
    "        print(\"Optimal value: \")\n",
    "        print(self.optimalValue)\n",
    "        \n",
    "    def printTableau(self, tableau):\n",
    "        \n",
    "        print(\"ind \\t\\t\", end = \"\")\n",
    "        for j in range(0, len(c)):\n",
    "            print(\"x_\" + str(j), end = \"\\t\")\n",
    "        for j in range(0, (len(tableau[0]) - len(c) - 2)):\n",
    "            print(\"s_\" + str(j), end = \"\\t\")\n",
    "        \n",
    "        print()\n",
    "        for j in range(0, len(tableau)):\n",
    "            for i in range(0, len(tableau[0])):\n",
    "                if(not np.isnan(tableau[j, i])):\n",
    "                    if(i == 0):\n",
    "                        print(int(tableau[j, i]), end = \"\\t\")\n",
    "                    else:\n",
    "                        print(round(tableau[j, i], 2), end = \"\\t\")\n",
    "                else:\n",
    "                    print(end = \"\\t\")\n",
    "            print()\n",
    "            \n",
    "    def getTableau(self):\n",
    "        # construct starting tableau\n",
    "        \n",
    "        if(self.minmax == \"MIN\" and self.transform == False):\n",
    "            self.c[0:len(c)] = -1 * self.c[0:len(c)]\n",
    "            self.transform = True\n",
    "        \n",
    "        t1 = np.array([None, 0])\n",
    "        numVar = len(self.c)\n",
    "        numSlack = len(self.A)\n",
    "        \n",
    "        t1 = np.hstack(([None], [0], self.c, [0] * numSlack))\n",
    "        \n",
    "        basis = np.array([0] * numSlack)\n",
    "        \n",
    "        for i in range(0, len(basis)):\n",
    "            basis[i] = numVar + i\n",
    "        \n",
    "        A = self.A\n",
    "        \n",
    "        if(not ((numSlack + numVar) == len(self.A[0]))):\n",
    "            B = np.identity(numSlack)\n",
    "            A = np.hstack((self.A, B))\n",
    "            \n",
    "        t2 = np.hstack((np.transpose([basis]), np.transpose([self.b]), A))\n",
    "        \n",
    "        tableau = np.vstack((t1, t2))\n",
    "        \n",
    "        tableau = np.array(tableau, dtype ='float')\n",
    "        \n",
    "        return tableau\n",
    "\n",
    "    def GetSol(self,tableau):\n",
    "        self.x = np.array([0] * len(c), dtype = float)\n",
    "        # save coefficients\n",
    "        for key in range(1, (len(tableau))):\n",
    "            if(tableau[key, 0] < len(c)):\n",
    "                self.x[int(tableau[key, 0])] = tableau[key, 1]\n",
    "        \n",
    "        self.optimalValue = -1 * tableau[0,1]      \n",
    "            \n",
    "    def optimize(self):\n",
    "        \n",
    "        if(self.minmax == \"MIN\" and self.transform == False):\n",
    "            for i in range(len(self.c)):\n",
    "                self.c[i] = -1 * self.c[i]\n",
    "                transform = True\n",
    "        \n",
    "        tableau = self.getTableau()\n",
    "         \n",
    "        if(self.printIter == True):\n",
    "            print(\"Starting Tableau:\")\n",
    "            self.printTableau(tableau)\n",
    "        \n",
    "        # assume initial basis is not optimal\n",
    "        optimal = False\n",
    "\n",
    "        # keep track of iterations for display\n",
    "        iter = 1\n",
    "\n",
    "        while(True):\n",
    "            self.GetSol(tableau)\n",
    "            self.history.append(self.x)\n",
    "            \n",
    "            if(self.printIter == True):\n",
    "                print(\"----------------------------------\")\n",
    "                print(\"Iteration :\", iter)\n",
    "                self.printTableau(tableau)\n",
    "                \n",
    "            if(self.minmax == \"MAX\"):\n",
    "                for profit in tableau[0, 2:]:\n",
    "                    if profit > 0:\n",
    "                        optimal = False\n",
    "                        break\n",
    "                    optimal = True\n",
    "            else:\n",
    "                for cost in tableau[0, 2:]:\n",
    "                    if cost < 0:\n",
    "                        optimal = False\n",
    "                        break\n",
    "                    optimal = True\n",
    "\n",
    "            # if all directions result in decreased profit or increased cost\n",
    "            if optimal == True: \n",
    "                 break\n",
    "            \n",
    "            # nth variable enters basis, account for tableau indexing\n",
    "            if (self.minmax == \"MAX\"):\n",
    "                n = tableau[0, 2:].tolist().index(np.amax(tableau[0, 2:])) + 2\n",
    "            else:\n",
    "                n = tableau[0, 2:].tolist().index(np.amin(tableau[0, 2:])) + 2\n",
    "\n",
    "            # minimum ratio test, rth variable leaves basis \n",
    "            minimum = 99999\n",
    "            r = -1\n",
    "\n",
    "            for i in range(1, len(tableau)): \n",
    "                if(tableau[i, n] > 0):\n",
    "                    val = tableau[i, 1]/tableau[i, n]\n",
    "                    if val<minimum: \n",
    "                        minimum = val \n",
    "                        r = i\n",
    "                            \n",
    "            pivot = tableau[r, n] \n",
    "            \n",
    "            print(\"Pivot Column:\", n)\n",
    "            print(\"Pivot Row:\", r)\n",
    "            print(\"Pivot Element: \", pivot)\n",
    "\n",
    "            # perform row operations \n",
    "            # divide the pivot row with the pivot element \n",
    "            tableau[r, 1:] = tableau[r, 1:] / pivot \n",
    "            \n",
    "            \n",
    "\n",
    "            # pivot other rows\n",
    "            for i in range(0, len(tableau)): \n",
    "                if i != r:\n",
    "                    mult = tableau[i, n] / tableau[r, n]\n",
    "                    tableau[i, 1:] = tableau[i, 1:] - mult * tableau[r, 1:] \n",
    "\n",
    "\n",
    "            # new basic variable \n",
    "            tableau[r, 0] = n - 2\n",
    "            \n",
    "            iter += 1\n",
    "            \n",
    "        \n",
    "        if(self.printIter == True):\n",
    "            print(\"----------------------------------\")\n",
    "            print(\"Final Tableau reached in\", iter, \"iterations\")\n",
    "            self.printTableau(tableau)\n",
    "        else:\n",
    "            print(\"Solved\")\n",
    "            \n",
    "        self.GetSol(tableau)"
   ]
  },
  {
   "cell_type": "code",
   "execution_count": null,
   "id": "a951BtBdjHX_",
   "metadata": {
    "executionInfo": {
     "elapsed": 466,
     "status": "ok",
     "timestamp": 1643295345736,
     "user": {
      "displayName": "Joaquim Gromicho",
      "photoUrl": "https://lh3.googleusercontent.com/a/default-user=s64",
      "userId": "14375950305363805729"
     },
     "user_tz": -60
    },
    "id": "a951BtBdjHX_"
   },
   "outputs": [],
   "source": [
    "import numpy as np\n",
    "\n",
    "class LPCenteringSolver():\n",
    "    \"\"\"\n",
    "    A helper module for LPSolver\n",
    "\n",
    "    Solves LP centering problem using infeasible start Newton method:\n",
    "    minimize    c'x - sum( log(x_i) )\n",
    "    subject to  Ax = b\n",
    "\n",
    "    Hyperparameters\n",
    "        alpha: the factor by which we weaken the slope of first-order approximation\n",
    "               in backtracking line search (0 < alpha < 0.5)\n",
    "        beta: multiplicative step size in backtracking line search (0 < beta < 1)\n",
    "        max_iter: maximum number of Newton steps before quitting\n",
    "\n",
    "    Attributes\n",
    "        status: 'optimal' or None\n",
    "        value: optimal value of objective function\n",
    "        x_opt, v_opt: primal optimal point and a dual optimal point\n",
    "        num_steps: Number of Newton steps executed\n",
    "        residual_norm: array of ||r(x,v)||_2 (length num_steps+1)\n",
    "    \"\"\"\n",
    "\n",
    "    def __init__(self, alpha=0.25, beta=0.5, max_iter=100):\n",
    "        self.alpha = alpha\n",
    "        self.beta = beta\n",
    "        self.max_iter = max_iter\n",
    "        self.convergence_threshold = 1e-6  # stop when ||r||_2 <= convergence_threshold\n",
    "        self.status = None\n",
    "        self.history = []\n",
    "\n",
    "\n",
    "    def solve(self, A, b, c, x0=None):\n",
    "        m, n = A.shape\n",
    "        self.status = None\n",
    "        self.residual_norm = []\n",
    "        self.history.append( [] )\n",
    "\n",
    "        # Initialize primal and dual variables (x, v)\n",
    "        x = x0 if x0 is not None else np.random.rand(n) + 0.01\n",
    "        v = np.zeros(m)\n",
    "\n",
    "        for self.num_steps in range(self.max_iter):\n",
    "            self.history.append(x)\n",
    "            # Compute primal and dual residuals\n",
    "            r_dual = c - 1 / x + np.dot(A.T, v)\n",
    "            r_primal = A.dot(x) - b\n",
    "            r_norm = np.sqrt(np.sum(r_dual ** 2) + np.sum(r_primal ** 2))\n",
    "            self.residual_norm.append(r_norm)\n",
    "\n",
    "            # Convergence check\n",
    "            if r_norm <= self.convergence_threshold:\n",
    "                self.status = 'optimal'\n",
    "                self.x_opt, self.v_opt = x, v\n",
    "                self.value = np.sum(c * x) - np.sum(np.log(x))\n",
    "                break\n",
    "\n",
    "            # Compute primal and dual Newton steps (dx, dv) via block elimination\n",
    "            h_inv =  x ** 2  # diagonal entries of inv(Hessian)\n",
    "            dv = np.linalg.solve( np.dot(A * h_inv, A.T), r_primal - np.dot(A * h_inv, r_dual) )\n",
    "            dx = -h_inv * (r_dual + np.dot(A.T, dv))\n",
    "\n",
    "            # Backtracking line search on ||r||_2\n",
    "            t = 1\n",
    "            while np.min(x + t * dx) <= 0:  # prevent x from going below 0\n",
    "                t = self.beta * t\n",
    "            while True:\n",
    "                x_new = x + t * dx\n",
    "                v_new = v + t * dv\n",
    "                r_dual_new = c - 1 / x_new + np.dot(A.T, v_new)\n",
    "                r_primal_new = A.dot(x_new) - b\n",
    "                r_norm_new = np.sqrt(np.sum(r_dual_new ** 2) + np.sum(r_primal_new ** 2))\n",
    "\n",
    "                if r_norm_new <= (1 - self.alpha * t) * r_norm:\n",
    "                    x = x_new\n",
    "                    v = v_new\n",
    "                    break\n",
    "                else:\n",
    "                    t = self.beta * t\n",
    "\n",
    "        self.residual_norm = np.array(self.residual_norm)\n",
    "        if self.status != 'optimal':\n",
    "            self.num_steps = self.max_iter\n",
    "            self.value, self.x_opt, self.v_opt = None, None, None\n",
    "\n",
    "\n",
    "class LPSolver():\n",
    "    \"\"\"\n",
    "    LPSolver solves the standard form LP problem:\n",
    "    minimize    c'x\n",
    "    subject to  Ax = b, x >= 0\n",
    "\n",
    "    The solver uses the barrier method.\n",
    "    It traverses the central path by solving a centering problem at each step:\n",
    "    minimize    t * c'x - sum( log(x_i) )\n",
    "    subject to  Ax = b\n",
    "\n",
    "    The solving procedure gradually increases t after each step, and stops when\n",
    "    the duality gap n / t < tol, where n is the length of x\n",
    "\n",
    "    Hyperparameters\n",
    "        mu: multiplicative step size for barrier method (t := mu * t)\n",
    "        tol: suboptimality tolerance (used for convergence check)\n",
    "\n",
    "    Attributes:\n",
    "        status: 'optimal', 'infeasible', or 'failure'\n",
    "        value: optimal value of objective function\n",
    "        x_opt, v_opt: primal optimal point and a dual optimal point\n",
    "        num_steps: number of centering steps executed\n",
    "        duality_gaps: array - duality gap after every centering step\n",
    "        newton_steps: array - number of Newton steps for solving centering problems\n",
    "    \"\"\"\n",
    "\n",
    "    def __init__(self, mu=10, tol=1e-3) :\n",
    "        self.mu = mu  # multiplicative step size for barrier method\n",
    "        self.tol = tol  # maximum acceptable duality gap\n",
    "        self.max_iter = 100\n",
    "        self.centering_solver = LPCenteringSolver(alpha=0.25, beta=0.5, max_iter=100)\n",
    "\n",
    "    def solve_feasible_start(self, A, b, c, x):\n",
    "        \"\"\"\n",
    "        Solves an LP problem given a strictly feasible starting point x.\n",
    "        This is used as a helper method for solving an LP problem from scratch,\n",
    "        no matter whether the problem is strictly feasible or not\n",
    "        \"\"\"\n",
    "        m, n = A.shape\n",
    "        status, x_opt, v_opt, value = None, None, None, None\n",
    "        duality_gaps = []  # duality gap n/t after every iteration\n",
    "        newton_steps = []  # number of Newton steps for solving centering problems\n",
    "\n",
    "        t = 1\n",
    "        for num_steps in range(1, self.max_iter+1):\n",
    "            # Solve LP Centering problem\n",
    "            self.centering_solver.solve(A, b, t*c, x)\n",
    "            if self.centering_solver.status != 'optimal':\n",
    "                status = 'failure'  # Centering solver failed\n",
    "                break\n",
    "\n",
    "            x, v = self.centering_solver.x_opt, self.centering_solver.v_opt\n",
    "            duality_gap = n / t\n",
    "            newton_steps.append(self.centering_solver.num_steps)\n",
    "            duality_gaps.append(duality_gap)\n",
    "\n",
    "            # Convergence check\n",
    "            if duality_gap < self.tol:\n",
    "                status = 'optimal'\n",
    "                x_opt, v_opt = x, v\n",
    "                value = np.sum(c * x)\n",
    "                break\n",
    "            else:\n",
    "                t = self.mu * t  # Increase t\n",
    "\n",
    "        return status, x_opt, v_opt, value, num_steps, \\\n",
    "               np.array(duality_gaps), np.array(newton_steps)\n",
    "\n",
    "\n",
    "    def solve(self, A, b, c, start=None):\n",
    "        \"\"\"\n",
    "        Checks feasibility of an LP problem, and solves the problem if it's feasible\n",
    "        The solving procedure consists of two phases:\n",
    "        -- Phase I: Check strict feasibility and obtain a strictly feasible starting\n",
    "                    point by using solve_feasible_start() to solve the following LP,\n",
    "                    for which we can always find a feasible starting point (x, t):\n",
    "                    minimize    t\n",
    "                    subject to  Ax = b, x >= (1 - t) * 1_n\n",
    "\n",
    "        -- Phase II: If strictly feasible, directly invoke solve_feasible_start()\n",
    "                     with the starting point x found in Phase I\n",
    "        \"\"\"\n",
    "        m, n = A.shape\n",
    "\n",
    "        # Phase I: Check strict feasibility and obtain a strictly feasible starting point\n",
    "        if start is None:\n",
    "            x = np.linalg.pinv(A).dot(b)\n",
    "        else: \n",
    "            x = np.hstack( [ start, b - np.dot(AA[:,:len(start)],start) ] )\n",
    "        self.centering_solver.history.append( x )\n",
    "        if np.min(x) <= 0:  # otherwise, x is already a strictly feasible point\n",
    "            # Construct an LP for checking feasibility\n",
    "            A1 = np.hstack(( A, -A.dot(np.ones((n, 1))) ))\n",
    "            b1 = b - A.dot(np.ones(n))\n",
    "            c1 = np.zeros(n+1)\n",
    "            c1[-1] = 1\n",
    "\n",
    "            t = 2 - np.min(x)  # makes sure the starting (x, t) pair is feasible\n",
    "            z0 = np.concatenate(( x + (t-1)*np.ones(n), [t] ))\n",
    "            status, z_opt, _, value, _, _, _ = self.solve_feasible_start(A1, b1, c1, z0)\n",
    "            if status == 'optimal' and value < 1:  # strictly feasible\n",
    "                x = z_opt[:n] - (z_opt[-1] - 1) * np.ones(n)\n",
    "            else:\n",
    "                self.status = \"infeasible\"\n",
    "                self.x_opt, self.v_opt, self.value = None, None, None\n",
    "                self.duality_gaps, self.newton_steps = None, None\n",
    "                return\n",
    "\n",
    "        # Phase II: Given a strictly feasible starting point x, solve the problem\n",
    "        self.status, self.x_opt, self.v_opt, self.value, self.num_steps, \\\n",
    "        self.duality_gaps, self.newton_steps = self.solve_feasible_start(A, b, c, x)"
   ]
  },
  {
   "cell_type": "code",
   "execution_count": null,
   "id": "DIxYil-hjVuH",
   "metadata": {
    "colab": {
     "base_uri": "https://localhost:8080/"
    },
    "executionInfo": {
     "elapsed": 428,
     "status": "ok",
     "timestamp": 1643295346163,
     "user": {
      "displayName": "Joaquim Gromicho",
      "photoUrl": "https://lh3.googleusercontent.com/a/default-user=s64",
      "userId": "14375950305363805729"
     },
     "user_tz": -60
    },
    "id": "DIxYil-hjVuH",
    "outputId": "b31724df-c10c-4cb1-bd86-ec1ce2bf441c"
   },
   "outputs": [],
   "source": [
    "model1 = LinearModel(printIter=False)\n",
    "\n",
    "A = np.array([[1, 0], \n",
    "              [0, 1], \n",
    "              [1, 1],\n",
    "              [4, 2]])\n",
    "b = np.array([1000,1500,1750,4800])\n",
    "c = np.array([12,9])\n",
    "\n",
    "model1.addA(A)\n",
    "model1.addB(b)\n",
    "model1.addC(c)\n",
    "model1.setObj(\"MAX\")\n",
    "\n",
    "print(\"A =\\n\", A, \"\\n\")\n",
    "print(\"b =\\n\", b, \"\\n\")\n",
    "print(\"c =\\n\", c, \"\\n\\n\")\n",
    "model1.optimize()\n",
    "print(\"\\n\")\n",
    "model1.printSoln()\n",
    "\n",
    "# Solve the problem\n",
    "AA = np.hstack([A,np.eye(4)])\n",
    "cc = -1*np.hstack([c,np.zeros(4)])\n",
    "solver = LPSolver(mu=10, tol=1e-4)\n",
    "solver.solve(AA, b, cc, (500,750) )\n",
    "assert solver.status == 'optimal'\n",
    "print(\"optimal value: {}\".format(solver.value))"
   ]
  },
  {
   "cell_type": "code",
   "execution_count": null,
   "id": "UgNtFPq2js1Q",
   "metadata": {
    "executionInfo": {
     "elapsed": 10,
     "status": "ok",
     "timestamp": 1643295346163,
     "user": {
      "displayName": "Joaquim Gromicho",
      "photoUrl": "https://lh3.googleusercontent.com/a/default-user=s64",
      "userId": "14375950305363805729"
     },
     "user_tz": -60
    },
    "id": "UgNtFPq2js1Q"
   },
   "outputs": [],
   "source": [
    "trajectories = { 'simplex' : model1.history,\n",
    "                 'barrier' : [ x[:2] for x in solver.centering_solver.history if len(x) > 0 ]\n",
    "                }"
   ]
  },
  {
   "cell_type": "code",
   "execution_count": null,
   "id": "Lf1t6hEzr8HD",
   "metadata": {
    "colab": {
     "base_uri": "https://localhost:8080/"
    },
    "executionInfo": {
     "elapsed": 9,
     "status": "ok",
     "timestamp": 1643295346163,
     "user": {
      "displayName": "Joaquim Gromicho",
      "photoUrl": "https://lh3.googleusercontent.com/a/default-user=s64",
      "userId": "14375950305363805729"
     },
     "user_tz": -60
    },
    "id": "Lf1t6hEzr8HD",
    "outputId": "31eaabfc-d2e1-42ae-f88d-f0a6f2998074"
   },
   "outputs": [],
   "source": [
    "x = np.linalg.pinv(AA).dot(b)\n",
    "x"
   ]
  },
  {
   "cell_type": "code",
   "execution_count": null,
   "id": "maXMOlpG1__I",
   "metadata": {
    "executionInfo": {
     "elapsed": 6,
     "status": "ok",
     "timestamp": 1643295346164,
     "user": {
      "displayName": "Joaquim Gromicho",
      "photoUrl": "https://lh3.googleusercontent.com/a/default-user=s64",
      "userId": "14375950305363805729"
     },
     "user_tz": -60
    },
    "id": "maXMOlpG1__I"
   },
   "outputs": [],
   "source": [
    "start=[0,0]"
   ]
  },
  {
   "cell_type": "code",
   "execution_count": null,
   "id": "Txjm3lcqsL49",
   "metadata": {
    "colab": {
     "base_uri": "https://localhost:8080/"
    },
    "executionInfo": {
     "elapsed": 6,
     "status": "ok",
     "timestamp": 1643295346164,
     "user": {
      "displayName": "Joaquim Gromicho",
      "photoUrl": "https://lh3.googleusercontent.com/a/default-user=s64",
      "userId": "14375950305363805729"
     },
     "user_tz": -60
    },
    "id": "Txjm3lcqsL49",
    "outputId": "bd36c889-70e5-4142-ea60-3fccf21d6ab4"
   },
   "outputs": [],
   "source": [
    "b - np.dot(AA[:,:2],start)"
   ]
  },
  {
   "cell_type": "code",
   "execution_count": null,
   "id": "U2MhqW6ErswK",
   "metadata": {
    "colab": {
     "base_uri": "https://localhost:8080/"
    },
    "executionInfo": {
     "elapsed": 4,
     "status": "ok",
     "timestamp": 1643295346164,
     "user": {
      "displayName": "Joaquim Gromicho",
      "photoUrl": "https://lh3.googleusercontent.com/a/default-user=s64",
      "userId": "14375950305363805729"
     },
     "user_tz": -60
    },
    "id": "U2MhqW6ErswK",
    "outputId": "43f45bc8-74ed-485f-e301-86c8575e4c66"
   },
   "outputs": [],
   "source": [
    "solver.centering_solver.history"
   ]
  },
  {
   "cell_type": "code",
   "execution_count": null,
   "id": "Bvb3fW03ktHZ",
   "metadata": {
    "colab": {
     "base_uri": "https://localhost:8080/",
     "height": 770
    },
    "executionInfo": {
     "elapsed": 3779,
     "status": "ok",
     "timestamp": 1643295349940,
     "user": {
      "displayName": "Joaquim Gromicho",
      "photoUrl": "https://lh3.googleusercontent.com/a/default-user=s64",
      "userId": "14375950305363805729"
     },
     "user_tz": -60
    },
    "id": "Bvb3fW03ktHZ",
    "outputId": "e867a02c-732f-4310-fb83-ca8b5f9275ad"
   },
   "outputs": [],
   "source": [
    "graphics_type = ApplyDefaults(2)\n",
    "\n",
    "traj = { 'Simplex method' : trajectories['simplex'],\n",
    "         'Interior point method' : trajectories['barrier'][:4] }\n",
    "\n",
    "basicfeasiblesolutions = draw.Draw( CreateBIM(), trajectories=traj, file_name=f'BIM_trajectories.{graphics_type}', basicsol_style=basicsol_style, optsol_style=optsol_style )\n",
    "\n",
    "graphics_type = ApplyDefaults()"
   ]
  },
  {
   "cell_type": "code",
   "execution_count": null,
   "id": "B1BDKpBEk-7A",
   "metadata": {
    "executionInfo": {
     "elapsed": 2,
     "status": "ok",
     "timestamp": 1643295349940,
     "user": {
      "displayName": "Joaquim Gromicho",
      "photoUrl": "https://lh3.googleusercontent.com/a/default-user=s64",
      "userId": "14375950305363805729"
     },
     "user_tz": -60
    },
    "id": "B1BDKpBEk-7A"
   },
   "outputs": [],
   "source": [
    "start=np.array(basicfeasiblesolutions.mean()[['x1','x2']])"
   ]
  },
  {
   "cell_type": "code",
   "execution_count": null,
   "id": "A3HoXwBil3CO",
   "metadata": {
    "colab": {
     "base_uri": "https://localhost:8080/"
    },
    "executionInfo": {
     "elapsed": 328,
     "status": "ok",
     "timestamp": 1643295350266,
     "user": {
      "displayName": "Joaquim Gromicho",
      "photoUrl": "https://lh3.googleusercontent.com/a/default-user=s64",
      "userId": "14375950305363805729"
     },
     "user_tz": -60
    },
    "id": "A3HoXwBil3CO",
    "outputId": "d7676d34-8b86-4ffc-9ebc-6e3cb4513f49"
   },
   "outputs": [],
   "source": [
    "solver = LPSolver(mu=10, tol=1e-4)\n",
    "solver.solve(AA, b, cc, np.array([0,0]))\n",
    "assert solver.status == 'optimal'\n",
    "print(\"optimal value: {}\".format(solver.value))"
   ]
  },
  {
   "cell_type": "code",
   "execution_count": null,
   "id": "gDxk9ubHrUWD",
   "metadata": {
    "executionInfo": {
     "elapsed": 270,
     "status": "ok",
     "timestamp": 1643295350534,
     "user": {
      "displayName": "Joaquim Gromicho",
      "photoUrl": "https://lh3.googleusercontent.com/a/default-user=s64",
      "userId": "14375950305363805729"
     },
     "user_tz": -60
    },
    "id": "gDxk9ubHrUWD"
   },
   "outputs": [],
   "source": [
    "basicfeasiblesolutions.astype(int).to_excel('bfs.xlsx')"
   ]
  },
  {
   "cell_type": "code",
   "execution_count": null,
   "id": "UsNb8-BQuVH0",
   "metadata": {
    "colab": {
     "base_uri": "https://localhost:8080/",
     "height": 17
    },
    "executionInfo": {
     "elapsed": 4,
     "status": "ok",
     "timestamp": 1643295350535,
     "user": {
      "displayName": "Joaquim Gromicho",
      "photoUrl": "https://lh3.googleusercontent.com/a/default-user=s64",
      "userId": "14375950305363805729"
     },
     "user_tz": -60
    },
    "id": "UsNb8-BQuVH0",
    "outputId": "e66a7cf7-02e7-4d13-dd3c-e3a12ffec4a7"
   },
   "outputs": [],
   "source": [
    "if 'google.colab' in sys.modules:\n",
    "    from google.colab import files\n",
    "    files.download( 'bfs.xlsx')"
   ]
  },
  {
   "cell_type": "code",
   "execution_count": null,
   "id": "x7nh4Uji2G4k",
   "metadata": {
    "executionInfo": {
     "elapsed": 257,
     "status": "ok",
     "timestamp": 1643297487816,
     "user": {
      "displayName": "Joaquim Gromicho",
      "photoUrl": "https://lh3.googleusercontent.com/a/default-user=s64",
      "userId": "14375950305363805729"
     },
     "user_tz": -60
    },
    "id": "x7nh4Uji2G4k"
   },
   "outputs": [],
   "source": [
    "def AnimatedDraw( model ):\n",
    "    rep       = draw.Interpret(model)\n",
    "    variables = list(rep.lower_variable.keys())\n",
    "    n         = len(variables)\n",
    "    assert(n==2)\n",
    "\n",
    "    plt.grid()\n",
    "    plt.xlabel(r'$'+variables[0].replace('x','x_')+'$')\n",
    "    plt.ylabel(r'$'+variables[1].replace('x','x_')+'$')\n",
    "\n",
    "    A,b,c,expressions = draw.GetCanonicalMatrices( rep )\n",
    "    basis = draw.GetBasicFeasibleSolutions( A, b )\n",
    "\n",
    "    x = n*[[]]\n",
    "    for i in range(n):\n",
    "        min_i = min(0,min(basis[i]))\n",
    "        max_i = max(0,max(basis[i]))\n",
    "        delta = max_i - min_i\n",
    "        x[i]  = np.linspace( min_i-delta/8, max_i+delta/8, 1000 )\n",
    "\n",
    "    m,_ = A.shape\n",
    "    for j in range(m):\n",
    "        label = expressions[j].replace('*','').replace('x','x_')\n",
    "        label = r'$'+label+'$'\n",
    "        row = A[j,:]\n",
    "        if np.count_nonzero(row) == n:\n",
    "            X = (b[j]-row[0]*x[0])/row[1]\n",
    "            plt.plot(x[0], X, label = label, zorder=3, alpha=1)\n",
    "        else:\n",
    "            assert( np.count_nonzero(row) == 1 )\n",
    "            if row[0] == 0:\n",
    "                plt.plot(x[0], b[j]/row[1]*np.ones_like(x[1]), label = label, zorder=2, alpha=1)\n",
    "            else:\n",
    "                assert( row[1] == 0 )\n",
    "                plt.plot(b[j]/row[0]*np.ones_like(x[0]), x[1], label = label, zorder=2, alpha=1)\n",
    "\n",
    "    plt.plot( basis[0], basis[1], 'o', color='gray', fillstyle='none', zorder=4 )\n",
    "\n",
    "    if basis.size > 0:\n",
    "        opt = basis[:,np.argmax(np.dot(c,basis))]\n",
    "        plt.plot( opt[0], opt[1], 'o', label = r'$'+str(tuple(opt.round(1)))+'$', color='gray', zorder=5 )\n",
    "\n",
    "    x[0],x[1] = np.meshgrid(x[0],x[1])\n",
    "    borders = [ (A[j,0]*x[0]+A[j,1]*x[1] <= b[j]).astype(int) for j in range(m) ]\n",
    "    image = borders[0]\n",
    "    for i in range(1,len(borders)):\n",
    "        image *= borders[i]\n",
    "        \n",
    "    plt.imshow( image\n",
    "               , extent=(x[0].min(),x[0].max(),x[1].min(),x[1].max())\n",
    "               , origin=\"lower\"\n",
    "               , cmap=\"Greys\"\n",
    "               , alpha = 0.2\n",
    "               , zorder = 1)\n",
    "    \n",
    "    plt.xlim( x[0].min(),x[0].max() )\n",
    "    plt.ylim( x[1].min(),x[1].max() )\n",
    "\n",
    "    plt.show()   \n",
    "\n",
    "    anim = None   \n",
    "\n",
    "    return anim"
   ]
  },
  {
   "cell_type": "code",
   "execution_count": null,
   "id": "VQ880YoLKQFi",
   "metadata": {
    "colab": {
     "base_uri": "https://localhost:8080/",
     "height": 770
    },
    "executionInfo": {
     "elapsed": 846,
     "status": "ok",
     "timestamp": 1643297494405,
     "user": {
      "displayName": "Joaquim Gromicho",
      "photoUrl": "https://lh3.googleusercontent.com/a/default-user=s64",
      "userId": "14375950305363805729"
     },
     "user_tz": -60
    },
    "id": "VQ880YoLKQFi",
    "outputId": "b61f4031-a8b3-4e96-c2ce-5da2f082a957"
   },
   "outputs": [],
   "source": [
    "AnimatedDraw( CreateBIM() )"
   ]
  },
  {
   "cell_type": "code",
   "execution_count": null,
   "id": "q7QJcNe9PWAb",
   "metadata": {
    "colab": {
     "base_uri": "https://localhost:8080/"
    },
    "executionInfo": {
     "elapsed": 298,
     "status": "ok",
     "timestamp": 1643298777614,
     "user": {
      "displayName": "Joaquim Gromicho",
      "photoUrl": "https://lh3.googleusercontent.com/a/default-user=s64",
      "userId": "14375950305363805729"
     },
     "user_tz": -60
    },
    "id": "q7QJcNe9PWAb",
    "outputId": "ace9188f-4c76-488f-8b73-076efc0ac98d"
   },
   "outputs": [],
   "source": [
    "trajectories"
   ]
  },
  {
   "cell_type": "code",
   "execution_count": null,
   "id": "Nmnq205VQyEo",
   "metadata": {
    "executionInfo": {
     "elapsed": 214,
     "status": "ok",
     "timestamp": 1643299156839,
     "user": {
      "displayName": "Joaquim Gromicho",
      "photoUrl": "https://lh3.googleusercontent.com/a/default-user=s64",
      "userId": "14375950305363805729"
     },
     "user_tz": -60
    },
    "id": "Nmnq205VQyEo"
   },
   "outputs": [],
   "source": [
    "plt.rcParams[\"figure.figsize\"] = (6.4,4.8)"
   ]
  },
  {
   "cell_type": "code",
   "execution_count": null,
   "id": "lEj2CY7gKc_l",
   "metadata": {
    "colab": {
     "base_uri": "https://localhost:8080/",
     "height": 671
    },
    "executionInfo": {
     "elapsed": 2805,
     "status": "ok",
     "timestamp": 1643299160655,
     "user": {
      "displayName": "Joaquim Gromicho",
      "photoUrl": "https://lh3.googleusercontent.com/a/default-user=s64",
      "userId": "14375950305363805729"
     },
     "user_tz": -60
    },
    "id": "lEj2CY7gKc_l",
    "outputId": "386a7aa5-6201-47b8-bafd-1f62bd173c59"
   },
   "outputs": [],
   "source": [
    "import numpy as np\n",
    "import matplotlib.pyplot as plt\n",
    "from matplotlib.animation import FuncAnimation\n",
    "\n",
    "fig, ax = plt.subplots()\n",
    "xdata, ydata = [], []\n",
    "ln, = plt.plot([], [], 'o-',linewidth=5,zorder=8)\n",
    "\n",
    "model =  CreateBIM()\n",
    "\n",
    "def init():\n",
    "    rep       = draw.Interpret(model)\n",
    "    variables = list(rep.lower_variable.keys())\n",
    "    n         = len(variables)\n",
    "    assert(n==2)\n",
    "\n",
    "    ax.grid()\n",
    "    ax.set_xlabel(r'$'+variables[0].replace('x','x_')+'$')\n",
    "    ax.set_ylabel(r'$'+variables[1].replace('x','x_')+'$')\n",
    "\n",
    "    A,b,c,expressions = draw.GetCanonicalMatrices( rep )\n",
    "    basis = draw.GetBasicFeasibleSolutions( A, b )\n",
    "\n",
    "    x = n*[[]]\n",
    "    for i in range(n):\n",
    "        min_i = min(0,min(basis[i]))\n",
    "        max_i = max(0,max(basis[i]))\n",
    "        delta = max_i - min_i\n",
    "        x[i]  = np.linspace( min_i-delta/8, max_i+delta/8, 1000 )\n",
    "\n",
    "    m,_ = A.shape\n",
    "    for j in range(m):\n",
    "        label = expressions[j].replace('*','').replace('x','x_')\n",
    "        label = r'$'+label+'$'\n",
    "        row = A[j,:]\n",
    "        if np.count_nonzero(row) == n:\n",
    "            X = (b[j]-row[0]*x[0])/row[1]\n",
    "            ax.plot(x[0], X, label = label, zorder=3, alpha=1)\n",
    "        else:\n",
    "            assert( np.count_nonzero(row) == 1 )\n",
    "            if row[0] == 0:\n",
    "                ax.plot(x[0], b[j]/row[1]*np.ones_like(x[1]), label = label, zorder=2, alpha=1)\n",
    "            else:\n",
    "                assert( row[1] == 0 )\n",
    "                ax.plot(b[j]/row[0]*np.ones_like(x[0]), x[1], label = label, zorder=2, alpha=1)\n",
    "\n",
    "    ax.plot( basis[0], basis[1], 'o', color='gray', fillstyle='none', zorder=4 )\n",
    "\n",
    "    if basis.size > 0:\n",
    "        opt = basis[:,np.argmax(np.dot(c,basis))]\n",
    "        ax.plot( opt[0], opt[1], 'o', label = r'$'+str(tuple(opt.round(1)))+'$', color='gray', zorder=5 )\n",
    "\n",
    "    x[0],x[1] = np.meshgrid(x[0],x[1])\n",
    "    borders = [ (A[j,0]*x[0]+A[j,1]*x[1] <= b[j]).astype(int) for j in range(m) ]\n",
    "    image = borders[0]\n",
    "    for i in range(1,len(borders)):\n",
    "        image *= borders[i]\n",
    "        \n",
    "    ax.imshow( image\n",
    "               , extent=(x[0].min(),x[0].max(),x[1].min(),x[1].max())\n",
    "               , origin=\"lower\"\n",
    "               , cmap=\"Greys\"\n",
    "               , alpha = 0.2\n",
    "               , zorder = 1)\n",
    "    \n",
    "    ax.set_xlim( x[0].min(),x[0].max() )\n",
    "    ax.set_ylim( x[1].min(),x[1].max() )\n",
    "\n",
    "    ln.set_data([], [])\n",
    "    return ln,\n",
    "\n",
    "def update(frame):\n",
    "    xdata.append(frame[0])\n",
    "    ydata.append(frame[1])\n",
    "    ln.set_data(xdata, ydata)\n",
    "    return ln,\n",
    "\n",
    "ani = FuncAnimation(fig, update, frames=trajectories['simplex'],\n",
    "                    init_func=init, blit=True)\n",
    "ani.save('simplex.gif', dpi=200, writer='imagemagick')\n",
    "\n",
    "ani"
   ]
  },
  {
   "cell_type": "code",
   "execution_count": null,
   "id": "u8c6L9UmMa__",
   "metadata": {
    "colab": {
     "base_uri": "https://localhost:8080/",
     "height": 366
    },
    "executionInfo": {
     "elapsed": 226,
     "status": "ok",
     "timestamp": 1643299366561,
     "user": {
      "displayName": "Joaquim Gromicho",
      "photoUrl": "https://lh3.googleusercontent.com/a/default-user=s64",
      "userId": "14375950305363805729"
     },
     "user_tz": -60
    },
    "id": "u8c6L9UmMa__",
    "outputId": "d5ad7d32-8d87-4079-f495-a8e5b2f81bdc"
   },
   "outputs": [],
   "source": [
    "from matplotlib import rc\n",
    "# equivalent to rcParams['animation.html'] = 'html5'\n",
    "rc('animation', html='html5')\n",
    "\n",
    "ani"
   ]
  }
 ],
 "metadata": {
  "colab": {
   "collapsed_sections": [],
   "name": "main book drawings.ipynb",
   "provenance": [
    {
     "file_id": "1VyIiakYLyO2z_co8JcYXQS6PPlXHrhUL",
     "timestamp": 1635686699062
    },
    {
     "file_id": "1FHuFubyIZXrOFUm3tbQzrFsZMiPu-fQh",
     "timestamp": 1631530700322
    }
   ]
  },
  "kernelspec": {
   "display_name": "Python 3 (ipykernel)",
   "language": "python",
   "name": "python3"
  },
  "language_info": {
   "codemirror_mode": {
    "name": "ipython",
    "version": 3
   },
   "file_extension": ".py",
   "mimetype": "text/x-python",
   "name": "python",
   "nbconvert_exporter": "python",
   "pygments_lexer": "ipython3",
   "version": "3.10.11"
  }
 },
 "nbformat": 4,
 "nbformat_minor": 5
}
