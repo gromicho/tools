{
 "cells": [
  {
   "cell_type": "code",
   "execution_count": 1,
   "id": "483ca84b",
   "metadata": {},
   "outputs": [],
   "source": [
    "%load_ext autoreload\n",
    "%autoreload 2"
   ]
  },
  {
   "cell_type": "markdown",
   "id": "f77dc946",
   "metadata": {},
   "source": [
    "# Super interesting  \n",
    "\n",
    "https://python-charts.com/\n",
    "\n",
    "https://plantuml.com/skinparam"
   ]
  },
  {
   "cell_type": "code",
   "execution_count": 2,
   "id": "dc14d39d",
   "metadata": {},
   "outputs": [],
   "source": [
    "import iplantuml"
   ]
  },
  {
   "cell_type": "code",
   "execution_count": 3,
   "id": "17e88d8a",
   "metadata": {},
   "outputs": [
    {
     "data": {
      "image/svg+xml": "<svg xmlns=\"http://www.w3.org/2000/svg\" xmlns:xlink=\"http://www.w3.org/1999/xlink\" contentStyleType=\"text/css\" height=\"363px\" preserveAspectRatio=\"none\" style=\"width:439px;height:363px;background:#EEEBDC;\" version=\"1.1\" viewBox=\"0 0 439 363\" width=\"439px\" zoomAndPan=\"magnify\"><defs/><g><rect fill=\"#A9DCDF\" height=\"145.6641\" style=\"stroke:#0000FF;stroke-width:1.0;\" width=\"10\" x=\"108.5\" y=\"115.9219\"/><rect fill=\"#A9DCDF\" height=\"87.3984\" style=\"stroke:#0000FF;stroke-width:1.0;\" width=\"10\" x=\"250.5\" y=\"145.0547\"/><rect fill=\"#A9DCDF\" height=\"29.1328\" style=\"stroke:#0000FF;stroke-width:1.0;\" width=\"10\" x=\"377\" y=\"174.1875\"/><line style=\"stroke:#0000FF;stroke-width:0.5;stroke-dasharray:5.0,5.0;\" x1=\"28\" x2=\"28\" y1=\"84.7891\" y2=\"279.5859\"/><line style=\"stroke:#0000FF;stroke-width:0.5;stroke-dasharray:5.0,5.0;\" x1=\"113\" x2=\"113\" y1=\"84.7891\" y2=\"279.5859\"/><line style=\"stroke:#0000FF;stroke-width:0.5;stroke-dasharray:5.0,5.0;\" x1=\"255.5\" x2=\"255.5\" y1=\"84.7891\" y2=\"279.5859\"/><line style=\"stroke:#0000FF;stroke-width:0.5;stroke-dasharray:5.0,5.0;\" x1=\"381.5\" x2=\"381.5\" y1=\"84.7891\" y2=\"279.5859\"/><text fill=\"#00BFFF\" font-family=\"Aapex\" font-size=\"17\" lengthAdjust=\"spacing\" textLength=\"40\" x=\"5\" y=\"80.7798\">User</text><ellipse cx=\"28\" cy=\"13.5\" fill=\"#00FFFF\" rx=\"8\" ry=\"8\" style=\"stroke:#00BFFF;stroke-width:0.5;\"/><path d=\"M28,21.5 L28,48.5 M15,29.5 L41,29.5 M28,48.5 L15,63.5 M28,48.5 L41,63.5 \" fill=\"none\" style=\"stroke:#00BFFF;stroke-width:0.5;\"/><text fill=\"#00BFFF\" font-family=\"Aapex\" font-size=\"17\" lengthAdjust=\"spacing\" textLength=\"40\" x=\"5\" y=\"294.3657\">User</text><ellipse cx=\"28\" cy=\"306.875\" fill=\"#00FFFF\" rx=\"8\" ry=\"8\" style=\"stroke:#00BFFF;stroke-width:0.5;\"/><path d=\"M28,314.875 L28,341.875 M15,322.875 L41,322.875 M28,341.875 L15,356.875 M28,341.875 L41,356.875 \" fill=\"none\" style=\"stroke:#00BFFF;stroke-width:0.5;\"/><rect fill=\"#1E90FF\" height=\"33.7891\" rx=\"2.5\" ry=\"2.5\" style=\"stroke:#00BFFF;stroke-width:0.5;\" width=\"105\" x=\"61\" y=\"50\"/><text fill=\"#A9DCDF\" font-family=\"Impact\" font-size=\"17\" lengthAdjust=\"spacing\" textLength=\"91\" x=\"68\" y=\"72.7798\">First Class</text><rect fill=\"#1E90FF\" height=\"33.7891\" rx=\"2.5\" ry=\"2.5\" style=\"stroke:#00BFFF;stroke-width:0.5;\" width=\"105\" x=\"61\" y=\"278.5859\"/><text fill=\"#A9DCDF\" font-family=\"Impact\" font-size=\"17\" lengthAdjust=\"spacing\" textLength=\"91\" x=\"68\" y=\"301.3657\">First Class</text><rect fill=\"#1E90FF\" height=\"33.7891\" rx=\"2.5\" ry=\"2.5\" style=\"stroke:#00BFFF;stroke-width:0.5;\" width=\"130\" x=\"190.5\" y=\"50\"/><text fill=\"#A9DCDF\" font-family=\"Impact\" font-size=\"17\" lengthAdjust=\"spacing\" textLength=\"116\" x=\"197.5\" y=\"72.7798\">Second Class</text><rect fill=\"#1E90FF\" height=\"33.7891\" rx=\"2.5\" ry=\"2.5\" style=\"stroke:#00BFFF;stroke-width:0.5;\" width=\"130\" x=\"190.5\" y=\"278.5859\"/><text fill=\"#A9DCDF\" font-family=\"Impact\" font-size=\"17\" lengthAdjust=\"spacing\" textLength=\"116\" x=\"197.5\" y=\"301.3657\">Second Class</text><rect fill=\"#1E90FF\" height=\"33.7891\" rx=\"2.5\" ry=\"2.5\" style=\"stroke:#00BFFF;stroke-width:0.5;\" width=\"103\" x=\"330.5\" y=\"50\"/><text fill=\"#A9DCDF\" font-family=\"Impact\" font-size=\"17\" lengthAdjust=\"spacing\" textLength=\"89\" x=\"337.5\" y=\"72.7798\">Last Class</text><rect fill=\"#1E90FF\" height=\"33.7891\" rx=\"2.5\" ry=\"2.5\" style=\"stroke:#00BFFF;stroke-width:0.5;\" width=\"103\" x=\"330.5\" y=\"278.5859\"/><text fill=\"#A9DCDF\" font-family=\"Impact\" font-size=\"17\" lengthAdjust=\"spacing\" textLength=\"89\" x=\"337.5\" y=\"301.3657\">Last Class</text><rect fill=\"#A9DCDF\" height=\"145.6641\" style=\"stroke:#0000FF;stroke-width:1.0;\" width=\"10\" x=\"108.5\" y=\"115.9219\"/><rect fill=\"#A9DCDF\" height=\"87.3984\" style=\"stroke:#0000FF;stroke-width:1.0;\" width=\"10\" x=\"250.5\" y=\"145.0547\"/><rect fill=\"#A9DCDF\" height=\"29.1328\" style=\"stroke:#0000FF;stroke-width:1.0;\" width=\"10\" x=\"377\" y=\"174.1875\"/><polygon fill=\"#00BFFF\" points=\"96.5,111.9219,106.5,115.9219,96.5,119.9219,100.5,115.9219\" style=\"stroke:#00BFFF;stroke-width:1.0;\"/><line style=\"stroke:#00BFFF;stroke-width:1.0;\" x1=\"28\" x2=\"102.5\" y1=\"115.9219\" y2=\"115.9219\"/><text fill=\"#000000\" font-family=\"sans-serif\" font-size=\"13\" lengthAdjust=\"spacing\" textLength=\"51\" x=\"35\" y=\"110.856\">DoWork</text><polygon fill=\"#00BFFF\" points=\"238.5,141.0547,248.5,145.0547,238.5,149.0547,242.5,145.0547\" style=\"stroke:#00BFFF;stroke-width:1.0;\"/><line style=\"stroke:#00BFFF;stroke-width:1.0;\" x1=\"118.5\" x2=\"244.5\" y1=\"145.0547\" y2=\"145.0547\"/><text fill=\"#000000\" font-family=\"sans-serif\" font-size=\"13\" lengthAdjust=\"spacing\" textLength=\"100\" x=\"125.5\" y=\"139.9888\">Create Request</text><polygon fill=\"#00BFFF\" points=\"365,170.1875,375,174.1875,365,178.1875,369,174.1875\" style=\"stroke:#00BFFF;stroke-width:1.0;\"/><line style=\"stroke:#00BFFF;stroke-width:1.0;\" x1=\"260.5\" x2=\"371\" y1=\"174.1875\" y2=\"174.1875\"/><text fill=\"#000000\" font-family=\"sans-serif\" font-size=\"13\" lengthAdjust=\"spacing\" textLength=\"51\" x=\"267.5\" y=\"169.1216\">DoWork</text><polygon fill=\"#00BFFF\" points=\"271.5,199.3203,261.5,203.3203,271.5,207.3203,267.5,203.3203\" style=\"stroke:#00BFFF;stroke-width:1.0;\"/><line style=\"stroke:#00BFFF;stroke-width:1.0;stroke-dasharray:2.0,2.0;\" x1=\"265.5\" x2=\"381\" y1=\"203.3203\" y2=\"203.3203\"/><text fill=\"#000000\" font-family=\"sans-serif\" font-size=\"13\" lengthAdjust=\"spacing\" textLength=\"67\" x=\"277.5\" y=\"198.2544\">WorkDone</text><line style=\"stroke:#0000FF;stroke-width:2.0;\" x1=\"373\" x2=\"391\" y1=\"194.3203\" y2=\"212.3203\"/><line style=\"stroke:#0000FF;stroke-width:2.0;\" x1=\"373\" x2=\"391\" y1=\"212.3203\" y2=\"194.3203\"/><polygon fill=\"#00BFFF\" points=\"129.5,228.4531,119.5,232.4531,129.5,236.4531,125.5,232.4531\" style=\"stroke:#00BFFF;stroke-width:1.0;\"/><line style=\"stroke:#00BFFF;stroke-width:1.0;stroke-dasharray:2.0,2.0;\" x1=\"123.5\" x2=\"254.5\" y1=\"232.4531\" y2=\"232.4531\"/><text fill=\"#000000\" font-family=\"sans-serif\" font-size=\"13\" lengthAdjust=\"spacing\" textLength=\"108\" x=\"135.5\" y=\"227.3872\">Request Created</text><polygon fill=\"#00BFFF\" points=\"39,257.5859,29,261.5859,39,265.5859,35,261.5859\" style=\"stroke:#00BFFF;stroke-width:1.0;\"/><line style=\"stroke:#00BFFF;stroke-width:1.0;stroke-dasharray:2.0,2.0;\" x1=\"33\" x2=\"112.5\" y1=\"261.5859\" y2=\"261.5859\"/><text fill=\"#000000\" font-family=\"sans-serif\" font-size=\"13\" lengthAdjust=\"spacing\" textLength=\"34\" x=\"45\" y=\"256.52\">Done</text><!--MD5=[971469797d6f51bb38e747823706041f]\n@startuml\nskinparam backgroundColor #EEEBDC\nskinparam handwritten false\n\nskinparam sequence {\nArrowColor DeepSkyBlue\nActorBorderColor DeepSkyBlue\nLifeLineBorderColor blue\nLifeLineBackgroundColor #A9DCDF\n\nParticipantBorderColor DeepSkyBlue\nParticipantBackgroundColor DodgerBlue\nParticipantFontName Impact\nParticipantFontSize 17\nParticipantFontColor #A9DCDF\n\nActorBackgroundColor aqua\nActorFontColor DeepSkyBlue\nActorFontSize 17\nActorFontName Aapex\n}\n\nactor User\nparticipant \"First Class\" as A\nparticipant \"Second Class\" as B\nparticipant \"Last Class\" as C\n\nUser -> A: DoWork\nactivate A\n\nA -> B: Create Request\nactivate B\n\nB -> C: DoWork\nactivate C\nC - -> B: WorkDone\ndestroy C\n\nB - -> A: Request Created\ndeactivate B\n\nA - -> User: Done\ndeactivate A\n@enduml\n\nPlantUML version 1.2022.10beta1(Unknown compile time)\n(GPL source distribution)\nJava Runtime: Java(TM) SE Runtime Environment\nJVM: Java HotSpot(TM) 64-Bit Server VM\nDefault Encoding: UTF-8\nLanguage: en\nCountry: US\n--></g></svg>",
      "text/plain": [
       "<IPython.core.display.SVG object>"
      ]
     },
     "execution_count": 3,
     "metadata": {},
     "output_type": "execute_result"
    }
   ],
   "source": [
    "%%plantuml -n auth\n",
    "\n",
    "@startuml\n",
    "skinparam backgroundColor #EEEBDC\n",
    "skinparam handwritten false\n",
    "\n",
    "skinparam sequence {\n",
    "ArrowColor DeepSkyBlue\n",
    "ActorBorderColor DeepSkyBlue\n",
    "LifeLineBorderColor blue\n",
    "LifeLineBackgroundColor #A9DCDF\n",
    "\n",
    "ParticipantBorderColor DeepSkyBlue\n",
    "ParticipantBackgroundColor DodgerBlue\n",
    "ParticipantFontName Impact\n",
    "ParticipantFontSize 17\n",
    "ParticipantFontColor #A9DCDF\n",
    "\n",
    "ActorBackgroundColor aqua\n",
    "ActorFontColor DeepSkyBlue\n",
    "ActorFontSize 17\n",
    "ActorFontName Aapex\n",
    "}\n",
    "\n",
    "actor User\n",
    "participant \"First Class\" as A\n",
    "participant \"Second Class\" as B\n",
    "participant \"Last Class\" as C\n",
    "\n",
    "User -> A: DoWork\n",
    "activate A\n",
    "\n",
    "A -> B: Create Request\n",
    "activate B\n",
    "\n",
    "B -> C: DoWork\n",
    "activate C\n",
    "C --> B: WorkDone\n",
    "destroy C\n",
    "\n",
    "B --> A: Request Created\n",
    "deactivate B\n",
    "\n",
    "A --> User: Done\n",
    "deactivate A\n",
    "@enduml\n"
   ]
  },
  {
   "cell_type": "code",
   "execution_count": 14,
   "id": "93f49562",
   "metadata": {},
   "outputs": [
    {
     "data": {
      "image/svg+xml": "<svg xmlns=\"http://www.w3.org/2000/svg\" xmlns:xlink=\"http://www.w3.org/1999/xlink\" contentStyleType=\"text/css\" height=\"488px\" preserveAspectRatio=\"none\" style=\"width:486px;height:488px;background:#FFFFFF;\" version=\"1.1\" viewBox=\"0 0 486 488\" width=\"486px\" zoomAndPan=\"magnify\"><defs/><g><rect fill=\"#FFFFFF\" height=\"87.3984\" style=\"stroke:#181818;stroke-width:1.0;\" width=\"10\" x=\"173.5\" y=\"112.4297\"/><rect fill=\"#FFFFFF\" height=\"145.6641\" style=\"stroke:#181818;stroke-width:1.0;\" width=\"10\" x=\"173.5\" y=\"244.0938\"/><rect fill=\"#FFFFFF\" height=\"29.1328\" style=\"stroke:#181818;stroke-width:1.0;\" width=\"10\" x=\"300\" y=\"141.5625\"/><rect fill=\"#FFFFFF\" height=\"29.1328\" style=\"stroke:#181818;stroke-width:1.0;\" width=\"10\" x=\"300\" y=\"273.2266\"/><rect fill=\"#FFFFFF\" height=\"29.1328\" style=\"stroke:#181818;stroke-width:1.0;\" width=\"10\" x=\"415\" y=\"331.4922\"/><line style=\"stroke:#181818;stroke-width:0.5;stroke-dasharray:5.0,5.0;\" x1=\"23\" x2=\"23\" y1=\"81.2969\" y2=\"407.7578\"/><line style=\"stroke:#181818;stroke-width:0.5;stroke-dasharray:5.0,5.0;\" x1=\"178\" x2=\"178\" y1=\"81.2969\" y2=\"407.7578\"/><line style=\"stroke:#181818;stroke-width:0.5;stroke-dasharray:5.0,5.0;\" x1=\"305\" x2=\"305\" y1=\"81.2969\" y2=\"407.7578\"/><line style=\"stroke:#181818;stroke-width:0.5;stroke-dasharray:5.0,5.0;\" x1=\"420\" x2=\"420\" y1=\"81.2969\" y2=\"407.7578\"/><text fill=\"#000000\" font-family=\"sans-serif\" font-size=\"14\" lengthAdjust=\"spacing\" textLength=\"31\" x=\"5\" y=\"77.9951\">User</text><ellipse cx=\"23.5\" cy=\"13.5\" fill=\"#E2E2F0\" rx=\"8\" ry=\"8\" style=\"stroke:#181818;stroke-width:0.5;\"/><path d=\"M23.5,21.5 L23.5,48.5 M10.5,29.5 L36.5,29.5 M23.5,48.5 L10.5,63.5 M23.5,48.5 L36.5,63.5 \" fill=\"none\" style=\"stroke:#181818;stroke-width:0.5;\"/><text fill=\"#000000\" font-family=\"sans-serif\" font-size=\"14\" lengthAdjust=\"spacing\" textLength=\"31\" x=\"5\" y=\"419.7529\">User</text><ellipse cx=\"23.5\" cy=\"431.5547\" fill=\"#E2E2F0\" rx=\"8\" ry=\"8\" style=\"stroke:#181818;stroke-width:0.5;\"/><path d=\"M23.5,439.5547 L23.5,466.5547 M10.5,447.5547 L36.5,447.5547 M23.5,466.5547 L10.5,481.5547 M23.5,466.5547 L36.5,481.5547 \" fill=\"none\" style=\"stroke:#181818;stroke-width:0.5;\"/><rect fill=\"#E2E2F0\" height=\"30.2969\" rx=\"2.5\" ry=\"2.5\" style=\"stroke:#181818;stroke-width:0.5;\" width=\"143\" x=\"107\" y=\"50\"/><text fill=\"#000000\" font-family=\"sans-serif\" font-size=\"14\" lengthAdjust=\"spacing\" textLength=\"129\" x=\"114\" y=\"69.9951\">Modeling Package</text><rect fill=\"#E2E2F0\" height=\"30.2969\" rx=\"2.5\" ry=\"2.5\" style=\"stroke:#181818;stroke-width:0.5;\" width=\"143\" x=\"107\" y=\"406.7578\"/><text fill=\"#000000\" font-family=\"sans-serif\" font-size=\"14\" lengthAdjust=\"spacing\" textLength=\"129\" x=\"114\" y=\"426.7529\">Modeling Package</text><rect fill=\"#E2E2F0\" height=\"30.2969\" rx=\"2.5\" ry=\"2.5\" style=\"stroke:#181818;stroke-width:0.5;\" width=\"90\" x=\"260\" y=\"50\"/><text fill=\"#000000\" font-family=\"sans-serif\" font-size=\"14\" lengthAdjust=\"spacing\" textLength=\"76\" x=\"267\" y=\"69.9951\">One solver</text><rect fill=\"#E2E2F0\" height=\"30.2969\" rx=\"2.5\" ry=\"2.5\" style=\"stroke:#181818;stroke-width:0.5;\" width=\"90\" x=\"260\" y=\"406.7578\"/><text fill=\"#000000\" font-family=\"sans-serif\" font-size=\"14\" lengthAdjust=\"spacing\" textLength=\"76\" x=\"267\" y=\"426.7529\">One solver</text><rect fill=\"#E2E2F0\" height=\"30.2969\" rx=\"2.5\" ry=\"2.5\" style=\"stroke:#181818;stroke-width:0.5;\" width=\"120\" x=\"360\" y=\"50\"/><text fill=\"#000000\" font-family=\"sans-serif\" font-size=\"14\" lengthAdjust=\"spacing\" textLength=\"106\" x=\"367\" y=\"69.9951\">Another solver</text><rect fill=\"#E2E2F0\" height=\"30.2969\" rx=\"2.5\" ry=\"2.5\" style=\"stroke:#181818;stroke-width:0.5;\" width=\"120\" x=\"360\" y=\"406.7578\"/><text fill=\"#000000\" font-family=\"sans-serif\" font-size=\"14\" lengthAdjust=\"spacing\" textLength=\"106\" x=\"367\" y=\"426.7529\">Another solver</text><rect fill=\"#FFFFFF\" height=\"87.3984\" style=\"stroke:#181818;stroke-width:1.0;\" width=\"10\" x=\"173.5\" y=\"112.4297\"/><rect fill=\"#FFFFFF\" height=\"145.6641\" style=\"stroke:#181818;stroke-width:1.0;\" width=\"10\" x=\"173.5\" y=\"244.0938\"/><rect fill=\"#FFFFFF\" height=\"29.1328\" style=\"stroke:#181818;stroke-width:1.0;\" width=\"10\" x=\"300\" y=\"141.5625\"/><rect fill=\"#FFFFFF\" height=\"29.1328\" style=\"stroke:#181818;stroke-width:1.0;\" width=\"10\" x=\"300\" y=\"273.2266\"/><rect fill=\"#FFFFFF\" height=\"29.1328\" style=\"stroke:#181818;stroke-width:1.0;\" width=\"10\" x=\"415\" y=\"331.4922\"/><polygon fill=\"#181818\" points=\"161.5,108.4297,171.5,112.4297,161.5,116.4297,165.5,112.4297\" style=\"stroke:#181818;stroke-width:1.0;\"/><line style=\"stroke:#181818;stroke-width:1.0;\" x1=\"23.5\" x2=\"167.5\" y1=\"112.4297\" y2=\"112.4297\"/><text fill=\"#000000\" font-family=\"sans-serif\" font-size=\"13\" lengthAdjust=\"spacing\" textLength=\"77\" x=\"30.5\" y=\"107.3638\">Draft model</text><polygon fill=\"#181818\" points=\"288,137.5625,298,141.5625,288,145.5625,292,141.5625\" style=\"stroke:#181818;stroke-width:1.0;\"/><line style=\"stroke:#181818;stroke-width:1.0;\" x1=\"183.5\" x2=\"294\" y1=\"141.5625\" y2=\"141.5625\"/><text fill=\"#000000\" font-family=\"sans-serif\" font-size=\"13\" lengthAdjust=\"spacing\" textLength=\"35\" x=\"190.5\" y=\"136.4966\">Solve</text><polygon fill=\"#181818\" points=\"194.5,166.6953,184.5,170.6953,194.5,174.6953,190.5,170.6953\" style=\"stroke:#181818;stroke-width:1.0;\"/><line style=\"stroke:#181818;stroke-width:1.0;stroke-dasharray:2.0,2.0;\" x1=\"188.5\" x2=\"304\" y1=\"170.6953\" y2=\"170.6953\"/><text fill=\"#000000\" font-family=\"sans-serif\" font-size=\"13\" lengthAdjust=\"spacing\" textLength=\"43\" x=\"200.5\" y=\"165.6294\">Solved</text><polygon fill=\"#181818\" points=\"34.5,195.8281,24.5,199.8281,34.5,203.8281,30.5,199.8281\" style=\"stroke:#181818;stroke-width:1.0;\"/><line style=\"stroke:#181818;stroke-width:1.0;stroke-dasharray:2.0,2.0;\" x1=\"28.5\" x2=\"177.5\" y1=\"199.8281\" y2=\"199.8281\"/><text fill=\"#000000\" font-family=\"sans-serif\" font-size=\"13\" lengthAdjust=\"spacing\" textLength=\"47\" x=\"40.5\" y=\"194.7622\">Results</text><polygon fill=\"#181818\" points=\"161.5,240.0938,171.5,244.0938,161.5,248.0938,165.5,244.0938\" style=\"stroke:#181818;stroke-width:1.0;\"/><line style=\"stroke:#181818;stroke-width:1.0;\" x1=\"23.5\" x2=\"167.5\" y1=\"244.0938\" y2=\"244.0938\"/><text fill=\"#000000\" font-family=\"sans-serif\" font-size=\"13\" lengthAdjust=\"spacing\" textLength=\"125\" x=\"30.5\" y=\"223.895\">Improve model and</text><text fill=\"#000000\" font-family=\"sans-serif\" font-size=\"13\" lengthAdjust=\"spacing\" textLength=\"127\" x=\"34.5\" y=\"239.0278\">try different solvers</text><polygon fill=\"#181818\" points=\"288,269.2266,298,273.2266,288,277.2266,292,273.2266\" style=\"stroke:#181818;stroke-width:1.0;\"/><line style=\"stroke:#181818;stroke-width:1.0;\" x1=\"183.5\" x2=\"294\" y1=\"273.2266\" y2=\"273.2266\"/><text fill=\"#000000\" font-family=\"sans-serif\" font-size=\"13\" lengthAdjust=\"spacing\" textLength=\"35\" x=\"190.5\" y=\"268.1606\">Solve</text><polygon fill=\"#181818\" points=\"194.5,298.3594,184.5,302.3594,194.5,306.3594,190.5,302.3594\" style=\"stroke:#181818;stroke-width:1.0;\"/><line style=\"stroke:#181818;stroke-width:1.0;stroke-dasharray:2.0,2.0;\" x1=\"188.5\" x2=\"304\" y1=\"302.3594\" y2=\"302.3594\"/><text fill=\"#000000\" font-family=\"sans-serif\" font-size=\"13\" lengthAdjust=\"spacing\" textLength=\"43\" x=\"200.5\" y=\"297.2935\">Solved</text><polygon fill=\"#181818\" points=\"403,327.4922,413,331.4922,403,335.4922,407,331.4922\" style=\"stroke:#181818;stroke-width:1.0;\"/><line style=\"stroke:#181818;stroke-width:1.0;\" x1=\"183.5\" x2=\"409\" y1=\"331.4922\" y2=\"331.4922\"/><text fill=\"#000000\" font-family=\"sans-serif\" font-size=\"13\" lengthAdjust=\"spacing\" textLength=\"35\" x=\"190.5\" y=\"326.4263\">Solve</text><polygon fill=\"#181818\" points=\"194.5,356.625,184.5,360.625,194.5,364.625,190.5,360.625\" style=\"stroke:#181818;stroke-width:1.0;\"/><line style=\"stroke:#181818;stroke-width:1.0;stroke-dasharray:2.0,2.0;\" x1=\"188.5\" x2=\"419\" y1=\"360.625\" y2=\"360.625\"/><text fill=\"#000000\" font-family=\"sans-serif\" font-size=\"13\" lengthAdjust=\"spacing\" textLength=\"43\" x=\"200.5\" y=\"355.5591\">Solved</text><polygon fill=\"#181818\" points=\"34.5,385.7578,24.5,389.7578,34.5,393.7578,30.5,389.7578\" style=\"stroke:#181818;stroke-width:1.0;\"/><line style=\"stroke:#181818;stroke-width:1.0;stroke-dasharray:2.0,2.0;\" x1=\"28.5\" x2=\"177.5\" y1=\"389.7578\" y2=\"389.7578\"/><text fill=\"#000000\" font-family=\"sans-serif\" font-size=\"13\" lengthAdjust=\"spacing\" textLength=\"47\" x=\"40.5\" y=\"384.6919\">Results</text><!--MD5=[c8c7dffef5859bbd732b3645db4c8a0e]\n@startuml\nactor User\n\nparticipant \"Modeling Package\" as A\nparticipant \"One solver\" as B\nparticipant \"Another solver\" as C\n\nUser -> A: Draft model\nactivate A\n\nA -> B: Solve\nactivate B\n\nB - -> A: Solved\ndeactivate B\n\nA - -> User: Results\ndeactivate A\n\nUser -> A: Improve model and \\n try different solvers\nactivate A\n\nA -> B: Solve\nactivate B\n\nB - -> A: Solved\ndeactivate B\n\nA -> C: Solve\nactivate C\n\nC - -> A: Solved\ndeactivate C\n\nA - -> User: Results\ndeactivate A\n@enduml\n\nPlantUML version 1.2022.10beta2(Unknown compile time)\n(GPL source distribution)\nJava Runtime: Java(TM) SE Runtime Environment\nJVM: Java HotSpot(TM) 64-Bit Server VM\nDefault Encoding: UTF-8\nLanguage: en\nCountry: US\n--></g></svg>",
      "text/plain": [
       "<IPython.core.display.SVG object>"
      ]
     },
     "execution_count": 14,
     "metadata": {},
     "output_type": "execute_result"
    }
   ],
   "source": [
    "%%plantuml -n fig1_3 \n",
    "\n",
    "@startuml\n",
    "\n",
    "actor User\n",
    "\n",
    "participant \"Modeling Package\" as A\n",
    "participant \"One solver\" as B\n",
    "participant \"Another solver\" as C\n",
    "\n",
    "User -> A: Draft model\n",
    "activate A\n",
    "\n",
    "A -> B: Solve\n",
    "activate B\n",
    "\n",
    "B --> A: Solved\n",
    "deactivate B\n",
    "\n",
    "A --> User: Results\n",
    "deactivate A\n",
    "\n",
    "User -> A: Improve model and \\n try different solvers\n",
    "activate A\n",
    "\n",
    "A -> B: Solve\n",
    "activate B\n",
    "\n",
    "B --> A: Solved\n",
    "deactivate B\n",
    "\n",
    "A -> C: Solve\n",
    "activate C\n",
    "\n",
    "C --> A: Solved\n",
    "deactivate C\n",
    "\n",
    "A --> User: Results\n",
    "deactivate A\n",
    "\n",
    "@enduml\n"
   ]
  },
  {
   "cell_type": "code",
   "execution_count": 12,
   "id": "ac1ac552",
   "metadata": {},
   "outputs": [
    {
     "data": {
      "image/svg+xml": "<svg xmlns=\"http://www.w3.org/2000/svg\" xmlns:xlink=\"http://www.w3.org/1999/xlink\" contentStyleType=\"text/css\" height=\"965px\" preserveAspectRatio=\"none\" style=\"width:282px;height:965px;background:#FFFFFF;\" version=\"1.1\" viewBox=\"0 0 282 965\" width=\"282px\" zoomAndPan=\"magnify\"><defs/><g><text fill=\"#000000\" font-family=\"sans-serif\" font-size=\"12\" lengthAdjust=\"spacing\" textLength=\"12\" x=\"5\" y=\"20.7949\">   </text><text fill=\"#000000\" font-family=\"sans-serif\" font-size=\"16\" font-weight=\"bold\" lengthAdjust=\"spacing\" textLength=\"145\" x=\"17\" y=\"19.8516\">Fonts available:</text><text fill=\"#000000\" font-family=\"sans-serif\" font-size=\"12\" lengthAdjust=\"spacing\" textLength=\"4\" x=\"5\" y=\"34.7637\"> </text><text fill=\"#000000\" font-family=\"sans-serif\" font-size=\"12\" lengthAdjust=\"spacing\" textLength=\"90\" x=\"5\" y=\"48.7324\">AR PL UKai CN :</text><text fill=\"#000000\" font-family=\"AR PL UKai CN\" font-size=\"12\" lengthAdjust=\"spacing\" textLength=\"81\" x=\"99\" y=\"50.0039\">This is a test</text><text fill=\"#000000\" font-family=\"sans-serif\" font-size=\"12\" lengthAdjust=\"spacing\" textLength=\"91\" x=\"5\" y=\"62.7012\">AR PL UKai HK :</text><text fill=\"#000000\" font-family=\"AR PL UKai HK\" font-size=\"12\" lengthAdjust=\"spacing\" textLength=\"81\" x=\"100\" y=\"63.9727\">This is a test</text><text fill=\"#000000\" font-family=\"sans-serif\" font-size=\"12\" lengthAdjust=\"spacing\" textLength=\"93\" x=\"5\" y=\"76.6699\">AR PL UKai TW :</text><text fill=\"#000000\" font-family=\"AR PL UKai TW\" font-size=\"12\" lengthAdjust=\"spacing\" textLength=\"81\" x=\"102\" y=\"77.9414\">This is a test</text><text fill=\"#000000\" font-family=\"sans-serif\" font-size=\"12\" lengthAdjust=\"spacing\" textLength=\"122\" x=\"5\" y=\"90.6387\">AR PL UKai TW MBE :</text><text fill=\"#000000\" font-family=\"AR PL UKai TW MBE\" font-size=\"12\" lengthAdjust=\"spacing\" textLength=\"81\" x=\"131\" y=\"91.9102\">This is a test</text><text fill=\"#000000\" font-family=\"sans-serif\" font-size=\"12\" lengthAdjust=\"spacing\" textLength=\"100\" x=\"5\" y=\"104.6074\">AR PL UMing CN :</text><text fill=\"#000000\" font-family=\"AR PL UMing CN\" font-size=\"12\" lengthAdjust=\"spacing\" textLength=\"84\" x=\"109\" y=\"105.6211\">This is a test</text><text fill=\"#000000\" font-family=\"sans-serif\" font-size=\"12\" lengthAdjust=\"spacing\" textLength=\"101\" x=\"5\" y=\"118.5762\">AR PL UMing HK :</text><text fill=\"#000000\" font-family=\"AR PL UMing HK\" font-size=\"12\" lengthAdjust=\"spacing\" textLength=\"84\" x=\"110\" y=\"119.5898\">This is a test</text><text fill=\"#000000\" font-family=\"sans-serif\" font-size=\"12\" lengthAdjust=\"spacing\" textLength=\"103\" x=\"5\" y=\"132.5449\">AR PL UMing TW :</text><text fill=\"#000000\" font-family=\"AR PL UMing TW\" font-size=\"12\" lengthAdjust=\"spacing\" textLength=\"84\" x=\"112\" y=\"133.5586\">This is a test</text><text fill=\"#000000\" font-family=\"sans-serif\" font-size=\"12\" lengthAdjust=\"spacing\" textLength=\"132\" x=\"5\" y=\"146.5137\">AR PL UMing TW MBE :</text><text fill=\"#000000\" font-family=\"AR PL UMing TW MBE\" font-size=\"12\" lengthAdjust=\"spacing\" textLength=\"84\" x=\"141\" y=\"147.5273\">This is a test</text><text fill=\"#000000\" font-family=\"sans-serif\" font-size=\"12\" lengthAdjust=\"spacing\" textLength=\"108\" x=\"5\" y=\"160.4824\">Baekmuk Batang :</text><text fill=\"#000000\" font-family=\"Baekmuk Batang\" font-size=\"12\" lengthAdjust=\"spacing\" textLength=\"68\" x=\"117\" y=\"160.9125\">This is a test</text><text fill=\"#000000\" font-family=\"sans-serif\" font-size=\"12\" lengthAdjust=\"spacing\" textLength=\"100\" x=\"5\" y=\"174.4512\">Baekmuk Gulim :</text><text fill=\"#000000\" font-family=\"Baekmuk Gulim\" font-size=\"12\" lengthAdjust=\"spacing\" textLength=\"84\" x=\"109\" y=\"174.8812\">This is a test</text><text fill=\"#000000\" font-family=\"sans-serif\" font-size=\"12\" lengthAdjust=\"spacing\" textLength=\"113\" x=\"5\" y=\"188.8513\">Bitstream Charter :</text><text fill=\"#000000\" font-family=\"Bitstream Charter\" font-size=\"12\" lengthAdjust=\"spacing\" textLength=\"64\" x=\"122\" y=\"188.8493\">This is a test</text><text fill=\"#000000\" font-family=\"sans-serif\" font-size=\"12\" lengthAdjust=\"spacing\" textLength=\"140\" x=\"5\" y=\"204.3314\">Century Schoolbook L :</text><text fill=\"#000000\" font-family=\"Century Schoolbook L\" font-size=\"12\" lengthAdjust=\"spacing\" textLength=\"73\" x=\"149\" y=\"203.5374\">This is a test</text><text fill=\"#000000\" font-family=\"sans-serif\" font-size=\"12\" lengthAdjust=\"spacing\" textLength=\"102\" x=\"5\" y=\"218.7315\">Courier 10 Pitch :</text><text fill=\"#000000\" font-family=\"Courier 10 Pitch\" font-size=\"12\" lengthAdjust=\"spacing\" textLength=\"98\" x=\"111\" y=\"217.9735\">This is a test</text><text fill=\"#000000\" font-family=\"sans-serif\" font-size=\"12\" lengthAdjust=\"spacing\" textLength=\"48\" x=\"5\" y=\"233.1316\">Cursor :</text><text fill=\"#000000\" font-family=\"Cursor\" font-size=\"12\" lengthAdjust=\"spacing\" textLength=\"0\" x=\"57\" y=\"229.7576\">This is a test</text><text fill=\"#000000\" font-family=\"sans-serif\" font-size=\"12\" lengthAdjust=\"spacing\" textLength=\"83\" x=\"5\" y=\"247.1003\">DejaVu Sans :</text><text fill=\"#000000\" font-family=\"DejaVu Sans\" font-size=\"12\" lengthAdjust=\"spacing\" textLength=\"76\" x=\"92\" y=\"247.1003\">This is a test</text><text fill=\"#000000\" font-family=\"sans-serif\" font-size=\"12\" lengthAdjust=\"spacing\" textLength=\"156\" x=\"5\" y=\"261.0691\">DejaVu Sans Condensed :</text><text fill=\"#000000\" font-family=\"DejaVu Sans Condensed\" font-size=\"12\" lengthAdjust=\"spacing\" textLength=\"65\" x=\"165\" y=\"261.0691\">This is a test</text><text fill=\"#000000\" font-family=\"sans-serif\" font-size=\"12\" lengthAdjust=\"spacing\" textLength=\"115\" x=\"5\" y=\"275.0378\">DejaVu Sans Light :</text><text fill=\"#000000\" font-family=\"DejaVu Sans Light\" font-size=\"12\" lengthAdjust=\"spacing\" textLength=\"78\" x=\"124\" y=\"275.0378\">This is a test</text><text fill=\"#000000\" font-family=\"sans-serif\" font-size=\"12\" lengthAdjust=\"spacing\" textLength=\"82\" x=\"5\" y=\"289.0066\">DejaVu Serif :</text><text fill=\"#000000\" font-family=\"DejaVu Serif\" font-size=\"12\" lengthAdjust=\"spacing\" textLength=\"84\" x=\"91\" y=\"289.0066\">This is a test</text><text fill=\"#000000\" font-family=\"sans-serif\" font-size=\"12\" lengthAdjust=\"spacing\" textLength=\"155\" x=\"5\" y=\"302.9753\">DejaVu Serif Condensed :</text><text fill=\"#000000\" font-family=\"DejaVu Serif Condensed\" font-size=\"12\" lengthAdjust=\"spacing\" textLength=\"69\" x=\"164\" y=\"302.9753\">This is a test</text><text fill=\"#000000\" font-family=\"sans-serif\" font-size=\"12\" lengthAdjust=\"spacing\" textLength=\"46\" x=\"5\" y=\"316.9441\">Dialog :</text><text fill=\"#000000\" font-family=\"Dialog\" font-size=\"12\" lengthAdjust=\"spacing\" textLength=\"76\" x=\"55\" y=\"316.9441\">This is a test</text><text fill=\"#000000\" font-family=\"sans-serif\" font-size=\"12\" lengthAdjust=\"spacing\" textLength=\"75\" x=\"5\" y=\"331.3442\">DialogInput :</text><text fill=\"#000000\" font-family=\"DialogInput\" font-size=\"12\" lengthAdjust=\"spacing\" textLength=\"98\" x=\"84\" y=\"330.8862\">This is a test</text><text fill=\"#000000\" font-family=\"sans-serif\" font-size=\"12\" lengthAdjust=\"spacing\" textLength=\"61\" x=\"5\" y=\"345.7443\">Dingbats :</text><text fill=\"#000000\" font-family=\"Dingbats\" font-size=\"12\" lengthAdjust=\"spacing\" textLength=\"42\" x=\"70\" y=\"346.8583\">This is a test</text><text fill=\"#000000\" font-family=\"sans-serif\" font-size=\"12\" lengthAdjust=\"spacing\" textLength=\"67\" x=\"5\" y=\"359.713\">IPAMincho :</text><text fill=\"#000000\" font-family=\"IPAMincho\" font-size=\"12\" lengthAdjust=\"spacing\" textLength=\"82\" x=\"76\" y=\"361.1017\">This is a test</text><text fill=\"#000000\" font-family=\"sans-serif\" font-size=\"12\" lengthAdjust=\"spacing\" textLength=\"79\" x=\"5\" y=\"373.6818\">jlm_cmbx10 :</text><text fill=\"#000000\" font-family=\"jlm_cmbx10\" font-size=\"12\" lengthAdjust=\"spacing\" textLength=\"87\" x=\"88\" y=\"373.5118\">This is a test</text><text fill=\"#000000\" font-family=\"sans-serif\" font-size=\"12\" lengthAdjust=\"spacing\" textLength=\"79\" x=\"5\" y=\"418.5822\">jlm_cmex10 :</text><text fill=\"#000000\" font-family=\"jlm_cmex10\" font-size=\"12\" lengthAdjust=\"spacing\" textLength=\"114\" x=\"88\" y=\"385.7755\">This is a test</text><text fill=\"#000000\" font-family=\"sans-serif\" font-size=\"12\" lengthAdjust=\"spacing\" textLength=\"78\" x=\"5\" y=\"432.5509\">jlm_cmmi10 :</text><text fill=\"#000000\" font-family=\"jlm_cmmi10\" font-size=\"12\" lengthAdjust=\"spacing\" textLength=\"60\" x=\"87\" y=\"432.981\">This is a test</text><text fill=\"#000000\" font-family=\"sans-serif\" font-size=\"12\" lengthAdjust=\"spacing\" textLength=\"69\" x=\"5\" y=\"446.5197\">jlm_cmr10 :</text><text fill=\"#000000\" font-family=\"jlm_cmr10\" font-size=\"12\" lengthAdjust=\"spacing\" textLength=\"76\" x=\"78\" y=\"446.9497\">This is a test</text><text fill=\"#000000\" font-family=\"sans-serif\" font-size=\"12\" lengthAdjust=\"spacing\" textLength=\"78\" x=\"5\" y=\"460.4884\">jlm_cmss10 :</text><text fill=\"#000000\" font-family=\"jlm_cmss10\" font-size=\"12\" lengthAdjust=\"spacing\" textLength=\"63\" x=\"87\" y=\"460.3185\">This is a test</text><text fill=\"#000000\" font-family=\"sans-serif\" font-size=\"12\" lengthAdjust=\"spacing\" textLength=\"78\" x=\"5\" y=\"474.4572\">jlm_cmsy10 :</text><text fill=\"#000000\" font-family=\"jlm_cmsy10\" font-size=\"12\" lengthAdjust=\"spacing\" textLength=\"65\" x=\"87\" y=\"474.8872\">This is a test</text><text fill=\"#000000\" font-family=\"sans-serif\" font-size=\"12\" lengthAdjust=\"spacing\" textLength=\"46\" x=\"5\" y=\"492.0493\">LKLUG :</text><text fill=\"#000000\" font-family=\"LKLUG\" font-size=\"12\" lengthAdjust=\"spacing\" textLength=\"153\" x=\"55\" y=\"489.9113\">This is a test</text><text fill=\"#000000\" font-family=\"sans-serif\" font-size=\"12\" lengthAdjust=\"spacing\" textLength=\"103\" x=\"5\" y=\"512.1014\">Lohit Assamese :</text><text fill=\"#000000\" font-family=\"Lohit Assamese\" font-size=\"12\" lengthAdjust=\"spacing\" textLength=\"141\" x=\"112\" y=\"509.8599\">This is a test</text><text fill=\"#000000\" font-family=\"sans-serif\" font-size=\"12\" lengthAdjust=\"spacing\" textLength=\"84\" x=\"5\" y=\"532.1535\">Lohit Bengali :</text><text fill=\"#000000\" font-family=\"Lohit Bengali\" font-size=\"12\" lengthAdjust=\"spacing\" textLength=\"141\" x=\"93\" y=\"529.912\">This is a test</text><text fill=\"#000000\" font-family=\"sans-serif\" font-size=\"12\" lengthAdjust=\"spacing\" textLength=\"108\" x=\"5\" y=\"554.4425\">Lohit Devanagari :</text><text fill=\"#000000\" font-family=\"Lohit Devanagari\" font-size=\"12\" lengthAdjust=\"spacing\" textLength=\"144\" x=\"117\" y=\"551.2374\">This is a test</text><text fill=\"#000000\" font-family=\"sans-serif\" font-size=\"12\" lengthAdjust=\"spacing\" textLength=\"85\" x=\"5\" y=\"572.8242\">Lohit Gujarati :</text><text fill=\"#000000\" font-family=\"Lohit Gujarati\" font-size=\"12\" lengthAdjust=\"spacing\" textLength=\"141\" x=\"94\" y=\"571.2462\">This is a test</text><text fill=\"#000000\" font-family=\"sans-serif\" font-size=\"12\" lengthAdjust=\"spacing\" textLength=\"91\" x=\"5\" y=\"593.918\">Lohit Kannada :</text><text fill=\"#000000\" font-family=\"Lohit Kannada\" font-size=\"12\" lengthAdjust=\"spacing\" textLength=\"111\" x=\"100\" y=\"588.5449\">This is a test</text><text fill=\"#000000\" font-family=\"sans-serif\" font-size=\"12\" lengthAdjust=\"spacing\" textLength=\"102\" x=\"5\" y=\"613.5469\">Lohit Malayalam :</text><text fill=\"#000000\" font-family=\"Lohit Malayalam\" font-size=\"12\" lengthAdjust=\"spacing\" textLength=\"111\" x=\"111\" y=\"609.2403\">This is a test</text><text fill=\"#000000\" font-family=\"sans-serif\" font-size=\"12\" lengthAdjust=\"spacing\" textLength=\"72\" x=\"5\" y=\"636.6328\">Lohit Oriya :</text><text fill=\"#000000\" font-family=\"Lohit Oriya\" font-size=\"12\" lengthAdjust=\"spacing\" textLength=\"105\" x=\"81\" y=\"632.1387\">This is a test</text><text fill=\"#000000\" font-family=\"sans-serif\" font-size=\"12\" lengthAdjust=\"spacing\" textLength=\"81\" x=\"5\" y=\"661.5692\">Lohit Punjabi :</text><text fill=\"#000000\" font-family=\"Lohit Punjabi\" font-size=\"12\" lengthAdjust=\"spacing\" textLength=\"141\" x=\"90\" y=\"656.6281\">This is a test</text><text fill=\"#000000\" font-family=\"sans-serif\" font-size=\"12\" lengthAdjust=\"spacing\" textLength=\"71\" x=\"5\" y=\"676.1708\">Lohit Tamil :</text><text fill=\"#000000\" font-family=\"Lohit Tamil\" font-size=\"12\" lengthAdjust=\"spacing\" textLength=\"144\" x=\"80\" y=\"674.5477\">This is a test</text><text fill=\"#000000\" font-family=\"sans-serif\" font-size=\"12\" lengthAdjust=\"spacing\" textLength=\"127\" x=\"5\" y=\"690.7723\">Lohit Tamil Classical :</text><text fill=\"#000000\" font-family=\"Lohit Tamil Classical\" font-size=\"12\" lengthAdjust=\"spacing\" textLength=\"144\" x=\"136\" y=\"689.1493\">This is a test</text><text fill=\"#000000\" font-family=\"sans-serif\" font-size=\"12\" lengthAdjust=\"spacing\" textLength=\"80\" x=\"5\" y=\"712.0184\">Lohit Telugu :</text><text fill=\"#000000\" font-family=\"Lohit Telugu\" font-size=\"12\" lengthAdjust=\"spacing\" textLength=\"56\" x=\"89\" y=\"706.9501\">This is a test</text><text fill=\"#000000\" font-family=\"sans-serif\" font-size=\"12\" lengthAdjust=\"spacing\" textLength=\"86\" x=\"5\" y=\"726.4185\">Monospaced :</text><text fill=\"#000000\" font-family=\"monospace\" font-size=\"12\" lengthAdjust=\"spacing\" textLength=\"98\" x=\"95\" y=\"725.9606\">This is a test</text><text fill=\"#000000\" font-family=\"sans-serif\" font-size=\"12\" lengthAdjust=\"spacing\" textLength=\"99\" x=\"5\" y=\"740.8186\">Nimbus Mono L :</text><text fill=\"#000000\" font-family=\"Nimbus Mono L\" font-size=\"12\" lengthAdjust=\"spacing\" textLength=\"98\" x=\"108\" y=\"740.3607\">This is a test</text><text fill=\"#000000\" font-family=\"sans-serif\" font-size=\"12\" lengthAdjust=\"spacing\" textLength=\"134\" x=\"5\" y=\"756.4307\">Nimbus Roman No9 L :</text><text fill=\"#000000\" font-family=\"Nimbus Roman No9 L\" font-size=\"12\" lengthAdjust=\"spacing\" textLength=\"64\" x=\"143\" y=\"755.1688\">This is a test</text><text fill=\"#000000\" font-family=\"sans-serif\" font-size=\"12\" lengthAdjust=\"spacing\" textLength=\"95\" x=\"5\" y=\"771.3228\">Nimbus Sans L :</text><text fill=\"#000000\" font-family=\"Nimbus Sans L\" font-size=\"12\" lengthAdjust=\"spacing\" textLength=\"55\" x=\"104\" y=\"770.7689\">This is a test</text><text fill=\"#000000\" font-family=\"sans-serif\" font-size=\"12\" lengthAdjust=\"spacing\" textLength=\"65\" x=\"5\" y=\"785.2916\">SansSerif :</text><text fill=\"#000000\" font-family=\"sans-serif\" font-size=\"12\" lengthAdjust=\"spacing\" textLength=\"76\" x=\"74\" y=\"785.2916\">This is a test</text><text fill=\"#000000\" font-family=\"sans-serif\" font-size=\"12\" lengthAdjust=\"spacing\" textLength=\"107\" x=\"5\" y=\"799.6705\">Sazanami Gothic :</text><text fill=\"#000000\" font-family=\"Sazanami Gothic\" font-size=\"12\" lengthAdjust=\"spacing\" textLength=\"87\" x=\"116\" y=\"800.0631\">This is a test</text><text fill=\"#000000\" font-family=\"sans-serif\" font-size=\"12\" lengthAdjust=\"spacing\" textLength=\"111\" x=\"5\" y=\"813.6392\">Sazanami Mincho :</text><text fill=\"#000000\" font-family=\"Sazanami Mincho\" font-size=\"12\" lengthAdjust=\"spacing\" textLength=\"86\" x=\"120\" y=\"814.5943\">This is a test</text><text fill=\"#000000\" font-family=\"sans-serif\" font-size=\"12\" lengthAdjust=\"spacing\" textLength=\"100\" x=\"5\" y=\"827.608\">Segoe UI Emoji :</text><text fill=\"#000000\" font-family=\"Segoe UI Emoji\" font-size=\"12\" lengthAdjust=\"spacing\" textLength=\"68\" x=\"109\" y=\"827.9127\">This is a test</text><text fill=\"#000000\" font-family=\"sans-serif\" font-size=\"12\" lengthAdjust=\"spacing\" textLength=\"36\" x=\"5\" y=\"841.5767\">Serif :</text><text fill=\"#000000\" font-family=\"Serif\" font-size=\"12\" lengthAdjust=\"spacing\" textLength=\"84\" x=\"45\" y=\"841.5767\">This is a test</text><text fill=\"#000000\" font-family=\"sans-serif\" font-size=\"12\" lengthAdjust=\"spacing\" textLength=\"128\" x=\"5\" y=\"857.2128\">Standard Symbols L :</text><text fill=\"#000000\" font-family=\"Standard Symbols L\" font-size=\"12\" lengthAdjust=\"spacing\" textLength=\"42\" x=\"137\" y=\"856.5269\">This is a test</text><text fill=\"#000000\" font-family=\"sans-serif\" font-size=\"12\" lengthAdjust=\"spacing\" textLength=\"106\" x=\"5\" y=\"871.6489\">URW Bookman L :</text><text fill=\"#000000\" font-family=\"URW Bookman L\" font-size=\"12\" lengthAdjust=\"spacing\" textLength=\"76\" x=\"115\" y=\"871.263\">This is a test</text><text fill=\"#000000\" font-family=\"sans-serif\" font-size=\"12\" lengthAdjust=\"spacing\" textLength=\"106\" x=\"5\" y=\"887.0571\">URW Chancery L :</text><text fill=\"#000000\" font-family=\"URW Chancery L\" font-size=\"12\" lengthAdjust=\"spacing\" textLength=\"55\" x=\"115\" y=\"886.4071\">This is a test</text><text fill=\"#000000\" font-family=\"sans-serif\" font-size=\"12\" lengthAdjust=\"spacing\" textLength=\"88\" x=\"5\" y=\"901.7452\">URW Gothic L :</text><text fill=\"#000000\" font-family=\"URW Gothic L\" font-size=\"12\" lengthAdjust=\"spacing\" textLength=\"64\" x=\"97\" y=\"901.6952\">This is a test</text><text fill=\"#000000\" font-family=\"sans-serif\" font-size=\"12\" lengthAdjust=\"spacing\" textLength=\"95\" x=\"5\" y=\"917.0573\">URW Palladio L :</text><text fill=\"#000000\" font-family=\"URW Palladio L\" font-size=\"12\" lengthAdjust=\"spacing\" textLength=\"64\" x=\"104\" y=\"916.4913\">This is a test</text><text fill=\"#000000\" font-family=\"sans-serif\" font-size=\"12\" lengthAdjust=\"spacing\" textLength=\"47\" x=\"5\" y=\"931.4574\">Utopia :</text><text fill=\"#000000\" font-family=\"Utopia\" font-size=\"12\" lengthAdjust=\"spacing\" textLength=\"64\" x=\"56\" y=\"931.2874\">This is a test</text><text fill=\"#000000\" font-family=\"sans-serif\" font-size=\"12\" lengthAdjust=\"spacing\" textLength=\"64\" x=\"5\" y=\"946.6975\">VL Gothic :</text><text fill=\"#000000\" font-family=\"VL Gothic\" font-size=\"12\" lengthAdjust=\"spacing\" textLength=\"85\" x=\"73\" y=\"946.2875\">This is a test</text><text fill=\"#000000\" font-family=\"sans-serif\" font-size=\"12\" lengthAdjust=\"spacing\" textLength=\"70\" x=\"5\" y=\"961.9976\">VL PGothic :</text><text fill=\"#000000\" font-family=\"VL PGothic\" font-size=\"12\" lengthAdjust=\"spacing\" textLength=\"78\" x=\"79\" y=\"961.5876\">This is a test</text><!--MD5=[c0b1bac936bb48a1328dc1da6b6e9d74]\n@startuml\nlistfonts\n@enduml\n\nPlantUML version 1.2022.10beta2(Unknown compile time)\n(GPL source distribution)\nJava Runtime: Java(TM) SE Runtime Environment\nJVM: Java HotSpot(TM) 64-Bit Server VM\nDefault Encoding: UTF-8\nLanguage: en\nCountry: US\n--></g></svg>",
      "text/plain": [
       "<IPython.core.display.SVG object>"
      ]
     },
     "execution_count": 12,
     "metadata": {},
     "output_type": "execute_result"
    }
   ],
   "source": [
    "%%plantuml\n",
    "\n",
    "@startuml\n",
    "listfonts\n",
    "@enduml"
   ]
  },
  {
   "cell_type": "code",
   "execution_count": null,
   "id": "5e83242c",
   "metadata": {},
   "outputs": [],
   "source": []
  }
 ],
 "metadata": {
  "colab": {
   "collapsed_sections": [],
   "name": "main book drawings.ipynb",
   "provenance": [
    {
     "file_id": "1VyIiakYLyO2z_co8JcYXQS6PPlXHrhUL",
     "timestamp": 1635686699062
    },
    {
     "file_id": "1FHuFubyIZXrOFUm3tbQzrFsZMiPu-fQh",
     "timestamp": 1631530700322
    }
   ]
  },
  "kernelspec": {
   "display_name": "Python 3.9.13 64-bit (microsoft store)",
   "language": "python",
   "name": "python3"
  },
  "language_info": {
   "codemirror_mode": {
    "name": "ipython",
    "version": 3
   },
   "file_extension": ".py",
   "mimetype": "text/x-python",
   "name": "python",
   "nbconvert_exporter": "python",
   "pygments_lexer": "ipython3",
   "version": "3.9.13"
  },
  "vscode": {
   "interpreter": {
    "hash": "ada2c23690b58540c76048cbd818a3346d54bdcdac819446bc984b7b85bb64b1"
   }
  }
 },
 "nbformat": 4,
 "nbformat_minor": 5
}
