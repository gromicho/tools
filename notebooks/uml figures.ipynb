{
 "cells": [
  {
   "cell_type": "code",
   "execution_count": 2,
   "id": "483ca84b",
   "metadata": {},
   "outputs": [],
   "source": [
    "%load_ext autoreload\n",
    "%autoreload 2"
   ]
  },
  {
   "cell_type": "markdown",
   "id": "f77dc946",
   "metadata": {},
   "source": [
    "# Super interesting  \n",
    "\n",
    "https://python-charts.com/\n",
    "\n",
    "https://plantuml.com/skinparam"
   ]
  },
  {
   "cell_type": "code",
   "execution_count": 3,
   "id": "dc14d39d",
   "metadata": {},
   "outputs": [],
   "source": [
    "import iplantuml"
   ]
  },
  {
   "cell_type": "code",
   "execution_count": 4,
   "id": "17e88d8a",
   "metadata": {},
   "outputs": [
    {
     "data": {
      "image/svg+xml": "<svg xmlns=\"http://www.w3.org/2000/svg\" xmlns:xlink=\"http://www.w3.org/1999/xlink\" contentStyleType=\"text/css\" height=\"363px\" preserveAspectRatio=\"none\" style=\"width:439px;height:363px;background:#EEEBDC;\" version=\"1.1\" viewBox=\"0 0 439 363\" width=\"439px\" zoomAndPan=\"magnify\"><defs/><g><rect fill=\"#A9DCDF\" height=\"145.6641\" style=\"stroke:#0000FF;stroke-width:1.0;\" width=\"10\" x=\"108.5\" y=\"115.9219\"/><rect fill=\"#A9DCDF\" height=\"87.3984\" style=\"stroke:#0000FF;stroke-width:1.0;\" width=\"10\" x=\"250.5\" y=\"145.0547\"/><rect fill=\"#A9DCDF\" height=\"29.1328\" style=\"stroke:#0000FF;stroke-width:1.0;\" width=\"10\" x=\"377\" y=\"174.1875\"/><line style=\"stroke:#0000FF;stroke-width:0.5;stroke-dasharray:5.0,5.0;\" x1=\"28\" x2=\"28\" y1=\"84.7891\" y2=\"279.5859\"/><line style=\"stroke:#0000FF;stroke-width:0.5;stroke-dasharray:5.0,5.0;\" x1=\"113\" x2=\"113\" y1=\"84.7891\" y2=\"279.5859\"/><line style=\"stroke:#0000FF;stroke-width:0.5;stroke-dasharray:5.0,5.0;\" x1=\"255.5\" x2=\"255.5\" y1=\"84.7891\" y2=\"279.5859\"/><line style=\"stroke:#0000FF;stroke-width:0.5;stroke-dasharray:5.0,5.0;\" x1=\"381.5\" x2=\"381.5\" y1=\"84.7891\" y2=\"279.5859\"/><text fill=\"#00BFFF\" font-family=\"Aapex\" font-size=\"17\" lengthAdjust=\"spacing\" textLength=\"40\" x=\"5\" y=\"80.7798\">User</text><ellipse cx=\"28\" cy=\"13.5\" fill=\"#00FFFF\" rx=\"8\" ry=\"8\" style=\"stroke:#00BFFF;stroke-width:0.5;\"/><path d=\"M28,21.5 L28,48.5 M15,29.5 L41,29.5 M28,48.5 L15,63.5 M28,48.5 L41,63.5 \" fill=\"none\" style=\"stroke:#00BFFF;stroke-width:0.5;\"/><text fill=\"#00BFFF\" font-family=\"Aapex\" font-size=\"17\" lengthAdjust=\"spacing\" textLength=\"40\" x=\"5\" y=\"294.3657\">User</text><ellipse cx=\"28\" cy=\"306.875\" fill=\"#00FFFF\" rx=\"8\" ry=\"8\" style=\"stroke:#00BFFF;stroke-width:0.5;\"/><path d=\"M28,314.875 L28,341.875 M15,322.875 L41,322.875 M28,341.875 L15,356.875 M28,341.875 L41,356.875 \" fill=\"none\" style=\"stroke:#00BFFF;stroke-width:0.5;\"/><rect fill=\"#1E90FF\" height=\"33.7891\" rx=\"2.5\" ry=\"2.5\" style=\"stroke:#00BFFF;stroke-width:0.5;\" width=\"105\" x=\"61\" y=\"50\"/><text fill=\"#A9DCDF\" font-family=\"Impact\" font-size=\"17\" lengthAdjust=\"spacing\" textLength=\"91\" x=\"68\" y=\"72.7798\">First Class</text><rect fill=\"#1E90FF\" height=\"33.7891\" rx=\"2.5\" ry=\"2.5\" style=\"stroke:#00BFFF;stroke-width:0.5;\" width=\"105\" x=\"61\" y=\"278.5859\"/><text fill=\"#A9DCDF\" font-family=\"Impact\" font-size=\"17\" lengthAdjust=\"spacing\" textLength=\"91\" x=\"68\" y=\"301.3657\">First Class</text><rect fill=\"#1E90FF\" height=\"33.7891\" rx=\"2.5\" ry=\"2.5\" style=\"stroke:#00BFFF;stroke-width:0.5;\" width=\"130\" x=\"190.5\" y=\"50\"/><text fill=\"#A9DCDF\" font-family=\"Impact\" font-size=\"17\" lengthAdjust=\"spacing\" textLength=\"116\" x=\"197.5\" y=\"72.7798\">Second Class</text><rect fill=\"#1E90FF\" height=\"33.7891\" rx=\"2.5\" ry=\"2.5\" style=\"stroke:#00BFFF;stroke-width:0.5;\" width=\"130\" x=\"190.5\" y=\"278.5859\"/><text fill=\"#A9DCDF\" font-family=\"Impact\" font-size=\"17\" lengthAdjust=\"spacing\" textLength=\"116\" x=\"197.5\" y=\"301.3657\">Second Class</text><rect fill=\"#1E90FF\" height=\"33.7891\" rx=\"2.5\" ry=\"2.5\" style=\"stroke:#00BFFF;stroke-width:0.5;\" width=\"103\" x=\"330.5\" y=\"50\"/><text fill=\"#A9DCDF\" font-family=\"Impact\" font-size=\"17\" lengthAdjust=\"spacing\" textLength=\"89\" x=\"337.5\" y=\"72.7798\">Last Class</text><rect fill=\"#1E90FF\" height=\"33.7891\" rx=\"2.5\" ry=\"2.5\" style=\"stroke:#00BFFF;stroke-width:0.5;\" width=\"103\" x=\"330.5\" y=\"278.5859\"/><text fill=\"#A9DCDF\" font-family=\"Impact\" font-size=\"17\" lengthAdjust=\"spacing\" textLength=\"89\" x=\"337.5\" y=\"301.3657\">Last Class</text><rect fill=\"#A9DCDF\" height=\"145.6641\" style=\"stroke:#0000FF;stroke-width:1.0;\" width=\"10\" x=\"108.5\" y=\"115.9219\"/><rect fill=\"#A9DCDF\" height=\"87.3984\" style=\"stroke:#0000FF;stroke-width:1.0;\" width=\"10\" x=\"250.5\" y=\"145.0547\"/><rect fill=\"#A9DCDF\" height=\"29.1328\" style=\"stroke:#0000FF;stroke-width:1.0;\" width=\"10\" x=\"377\" y=\"174.1875\"/><polygon fill=\"#00BFFF\" points=\"96.5,111.9219,106.5,115.9219,96.5,119.9219,100.5,115.9219\" style=\"stroke:#00BFFF;stroke-width:1.0;\"/><line style=\"stroke:#00BFFF;stroke-width:1.0;\" x1=\"28\" x2=\"102.5\" y1=\"115.9219\" y2=\"115.9219\"/><text fill=\"#000000\" font-family=\"sans-serif\" font-size=\"13\" lengthAdjust=\"spacing\" textLength=\"51\" x=\"35\" y=\"110.856\">DoWork</text><polygon fill=\"#00BFFF\" points=\"238.5,141.0547,248.5,145.0547,238.5,149.0547,242.5,145.0547\" style=\"stroke:#00BFFF;stroke-width:1.0;\"/><line style=\"stroke:#00BFFF;stroke-width:1.0;\" x1=\"118.5\" x2=\"244.5\" y1=\"145.0547\" y2=\"145.0547\"/><text fill=\"#000000\" font-family=\"sans-serif\" font-size=\"13\" lengthAdjust=\"spacing\" textLength=\"100\" x=\"125.5\" y=\"139.9888\">Create Request</text><polygon fill=\"#00BFFF\" points=\"365,170.1875,375,174.1875,365,178.1875,369,174.1875\" style=\"stroke:#00BFFF;stroke-width:1.0;\"/><line style=\"stroke:#00BFFF;stroke-width:1.0;\" x1=\"260.5\" x2=\"371\" y1=\"174.1875\" y2=\"174.1875\"/><text fill=\"#000000\" font-family=\"sans-serif\" font-size=\"13\" lengthAdjust=\"spacing\" textLength=\"51\" x=\"267.5\" y=\"169.1216\">DoWork</text><polygon fill=\"#00BFFF\" points=\"271.5,199.3203,261.5,203.3203,271.5,207.3203,267.5,203.3203\" style=\"stroke:#00BFFF;stroke-width:1.0;\"/><line style=\"stroke:#00BFFF;stroke-width:1.0;stroke-dasharray:2.0,2.0;\" x1=\"265.5\" x2=\"381\" y1=\"203.3203\" y2=\"203.3203\"/><text fill=\"#000000\" font-family=\"sans-serif\" font-size=\"13\" lengthAdjust=\"spacing\" textLength=\"67\" x=\"277.5\" y=\"198.2544\">WorkDone</text><line style=\"stroke:#0000FF;stroke-width:2.0;\" x1=\"373\" x2=\"391\" y1=\"194.3203\" y2=\"212.3203\"/><line style=\"stroke:#0000FF;stroke-width:2.0;\" x1=\"373\" x2=\"391\" y1=\"212.3203\" y2=\"194.3203\"/><polygon fill=\"#00BFFF\" points=\"129.5,228.4531,119.5,232.4531,129.5,236.4531,125.5,232.4531\" style=\"stroke:#00BFFF;stroke-width:1.0;\"/><line style=\"stroke:#00BFFF;stroke-width:1.0;stroke-dasharray:2.0,2.0;\" x1=\"123.5\" x2=\"254.5\" y1=\"232.4531\" y2=\"232.4531\"/><text fill=\"#000000\" font-family=\"sans-serif\" font-size=\"13\" lengthAdjust=\"spacing\" textLength=\"108\" x=\"135.5\" y=\"227.3872\">Request Created</text><polygon fill=\"#00BFFF\" points=\"39,257.5859,29,261.5859,39,265.5859,35,261.5859\" style=\"stroke:#00BFFF;stroke-width:1.0;\"/><line style=\"stroke:#00BFFF;stroke-width:1.0;stroke-dasharray:2.0,2.0;\" x1=\"33\" x2=\"112.5\" y1=\"261.5859\" y2=\"261.5859\"/><text fill=\"#000000\" font-family=\"sans-serif\" font-size=\"13\" lengthAdjust=\"spacing\" textLength=\"34\" x=\"45\" y=\"256.52\">Done</text><!--MD5=[971469797d6f51bb38e747823706041f]\n@startuml\nskinparam backgroundColor #EEEBDC\nskinparam handwritten false\n\nskinparam sequence {\nArrowColor DeepSkyBlue\nActorBorderColor DeepSkyBlue\nLifeLineBorderColor blue\nLifeLineBackgroundColor #A9DCDF\n\nParticipantBorderColor DeepSkyBlue\nParticipantBackgroundColor DodgerBlue\nParticipantFontName Impact\nParticipantFontSize 17\nParticipantFontColor #A9DCDF\n\nActorBackgroundColor aqua\nActorFontColor DeepSkyBlue\nActorFontSize 17\nActorFontName Aapex\n}\n\nactor User\nparticipant \"First Class\" as A\nparticipant \"Second Class\" as B\nparticipant \"Last Class\" as C\n\nUser -> A: DoWork\nactivate A\n\nA -> B: Create Request\nactivate B\n\nB -> C: DoWork\nactivate C\nC - -> B: WorkDone\ndestroy C\n\nB - -> A: Request Created\ndeactivate B\n\nA - -> User: Done\ndeactivate A\n@enduml\n\nPlantUML version 1.2022.10beta1(Unknown compile time)\n(GPL source distribution)\nJava Runtime: Java(TM) SE Runtime Environment\nJVM: Java HotSpot(TM) 64-Bit Server VM\nDefault Encoding: UTF-8\nLanguage: en\nCountry: US\n--></g></svg>",
      "text/plain": [
       "<IPython.core.display.SVG object>"
      ]
     },
     "execution_count": 4,
     "metadata": {},
     "output_type": "execute_result"
    }
   ],
   "source": [
    "%%plantuml -n auth\n",
    "\n",
    "@startuml\n",
    "skinparam backgroundColor #EEEBDC\n",
    "skinparam handwritten false\n",
    "\n",
    "skinparam sequence {\n",
    "ArrowColor DeepSkyBlue\n",
    "ActorBorderColor DeepSkyBlue\n",
    "LifeLineBorderColor blue\n",
    "LifeLineBackgroundColor #A9DCDF\n",
    "\n",
    "ParticipantBorderColor DeepSkyBlue\n",
    "ParticipantBackgroundColor DodgerBlue\n",
    "ParticipantFontName Impact\n",
    "ParticipantFontSize 17\n",
    "ParticipantFontColor #A9DCDF\n",
    "\n",
    "ActorBackgroundColor aqua\n",
    "ActorFontColor DeepSkyBlue\n",
    "ActorFontSize 17\n",
    "ActorFontName Aapex\n",
    "}\n",
    "\n",
    "actor User\n",
    "participant \"First Class\" as A\n",
    "participant \"Second Class\" as B\n",
    "participant \"Last Class\" as C\n",
    "\n",
    "User -> A: DoWork\n",
    "activate A\n",
    "\n",
    "A -> B: Create Request\n",
    "activate B\n",
    "\n",
    "B -> C: DoWork\n",
    "activate C\n",
    "C --> B: WorkDone\n",
    "destroy C\n",
    "\n",
    "B --> A: Request Created\n",
    "deactivate B\n",
    "\n",
    "A --> User: Done\n",
    "deactivate A\n",
    "@enduml\n"
   ]
  }
 ],
 "metadata": {
  "colab": {
   "collapsed_sections": [],
   "name": "main book drawings.ipynb",
   "provenance": [
    {
     "file_id": "1VyIiakYLyO2z_co8JcYXQS6PPlXHrhUL",
     "timestamp": 1635686699062
    },
    {
     "file_id": "1FHuFubyIZXrOFUm3tbQzrFsZMiPu-fQh",
     "timestamp": 1631530700322
    }
   ]
  },
  "kernelspec": {
   "display_name": "Python 3.9.13 64-bit (microsoft store)",
   "language": "python",
   "name": "python3"
  },
  "language_info": {
   "codemirror_mode": {
    "name": "ipython",
    "version": 3
   },
   "file_extension": ".py",
   "mimetype": "text/x-python",
   "name": "python",
   "nbconvert_exporter": "python",
   "pygments_lexer": "ipython3",
   "version": "3.9.13"
  },
  "vscode": {
   "interpreter": {
    "hash": "ada2c23690b58540c76048cbd818a3346d54bdcdac819446bc984b7b85bb64b1"
   }
  }
 },
 "nbformat": 4,
 "nbformat_minor": 5
}
